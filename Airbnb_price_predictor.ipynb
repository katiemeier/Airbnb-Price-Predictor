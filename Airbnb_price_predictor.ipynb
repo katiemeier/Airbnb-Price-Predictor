{
 "cells": [
  {
   "cell_type": "markdown",
   "metadata": {},
   "source": [
    "# Lab 8: Define and Solve an ML Problem of Your Choosing"
   ]
  },
  {
   "cell_type": "code",
   "execution_count": 1,
   "metadata": {},
   "outputs": [],
   "source": [
    "import pandas as pd\n",
    "import numpy as np\n",
    "import os \n",
    "import matplotlib.pyplot as plt\n",
    "import seaborn as sns"
   ]
  },
  {
   "cell_type": "markdown",
   "metadata": {},
   "source": [
    "In this lab assignment, you will follow the machine learning life cycle and implement a model to solve a machine learning problem of your choosing. You will select a data set and choose a predictive problem that the data set supports.  You will then inspect the data with your problem in mind and begin to formulate a  project plan. You will then implement the machine learning project plan. \n",
    "\n",
    "You will complete the following tasks:\n",
    "\n",
    "1. Build Your DataFrame\n",
    "2. Define Your ML Problem\n",
    "3. Perform exploratory data analysis to understand your data.\n",
    "4. Define Your Project Plan\n",
    "5. Implement Your Project Plan:\n",
    "    * Prepare your data for your model.\n",
    "    * Fit your model to the training data and evaluate your model.\n",
    "    * Improve your model's performance."
   ]
  },
  {
   "cell_type": "markdown",
   "metadata": {},
   "source": [
    "## Part 1: Build Your DataFrame\n",
    "\n",
    "You will have the option to choose one of four data sets that you have worked with in this program:\n",
    "\n",
    "* The \"census\" data set that contains Census information from 1994: `censusData.csv`\n",
    "* Airbnb NYC \"listings\" data set: `airbnbListingsData.csv`\n",
    "* World Happiness Report (WHR) data set: `WHR2018Chapter2OnlineData.csv`\n",
    "* Book Review data set: `bookReviewsData.csv`\n",
    "\n",
    "Note that these are variations of the data sets that you have worked with in this program. For example, some do not include some of the preprocessing necessary for specific models. \n",
    "\n",
    "#### Load a Data Set and Save it as a Pandas DataFrame\n",
    "\n",
    "The code cell below contains filenames (path + filename) for each of the four data sets available to you.\n",
    "\n",
    "<b>Task:</b> In the code cell below, use the same method you have been using to load the data using `pd.read_csv()` and save it to DataFrame `df`. \n",
    "\n",
    "You can load each file as a new DataFrame to inspect the data before choosing your data set."
   ]
  },
  {
   "cell_type": "code",
   "execution_count": 2,
   "metadata": {},
   "outputs": [
    {
     "data": {
      "text/html": [
       "<div>\n",
       "<style scoped>\n",
       "    .dataframe tbody tr th:only-of-type {\n",
       "        vertical-align: middle;\n",
       "    }\n",
       "\n",
       "    .dataframe tbody tr th {\n",
       "        vertical-align: top;\n",
       "    }\n",
       "\n",
       "    .dataframe thead th {\n",
       "        text-align: right;\n",
       "    }\n",
       "</style>\n",
       "<table border=\"1\" class=\"dataframe\">\n",
       "  <thead>\n",
       "    <tr style=\"text-align: right;\">\n",
       "      <th></th>\n",
       "      <th>name</th>\n",
       "      <th>description</th>\n",
       "      <th>neighborhood_overview</th>\n",
       "      <th>host_name</th>\n",
       "      <th>host_location</th>\n",
       "      <th>host_about</th>\n",
       "      <th>host_response_rate</th>\n",
       "      <th>host_acceptance_rate</th>\n",
       "      <th>host_is_superhost</th>\n",
       "      <th>host_listings_count</th>\n",
       "      <th>...</th>\n",
       "      <th>review_scores_communication</th>\n",
       "      <th>review_scores_location</th>\n",
       "      <th>review_scores_value</th>\n",
       "      <th>instant_bookable</th>\n",
       "      <th>calculated_host_listings_count</th>\n",
       "      <th>calculated_host_listings_count_entire_homes</th>\n",
       "      <th>calculated_host_listings_count_private_rooms</th>\n",
       "      <th>calculated_host_listings_count_shared_rooms</th>\n",
       "      <th>reviews_per_month</th>\n",
       "      <th>n_host_verifications</th>\n",
       "    </tr>\n",
       "  </thead>\n",
       "  <tbody>\n",
       "    <tr>\n",
       "      <th>0</th>\n",
       "      <td>Skylit Midtown Castle</td>\n",
       "      <td>Beautiful, spacious skylit studio in the heart...</td>\n",
       "      <td>Centrally located in the heart of Manhattan ju...</td>\n",
       "      <td>Jennifer</td>\n",
       "      <td>New York, New York, United States</td>\n",
       "      <td>A New Yorker since 2000! My passion is creatin...</td>\n",
       "      <td>0.80</td>\n",
       "      <td>0.17</td>\n",
       "      <td>True</td>\n",
       "      <td>8.0</td>\n",
       "      <td>...</td>\n",
       "      <td>4.79</td>\n",
       "      <td>4.86</td>\n",
       "      <td>4.41</td>\n",
       "      <td>False</td>\n",
       "      <td>3</td>\n",
       "      <td>3</td>\n",
       "      <td>0</td>\n",
       "      <td>0</td>\n",
       "      <td>0.33</td>\n",
       "      <td>9</td>\n",
       "    </tr>\n",
       "    <tr>\n",
       "      <th>1</th>\n",
       "      <td>Whole flr w/private bdrm, bath &amp; kitchen(pls r...</td>\n",
       "      <td>Enjoy 500 s.f. top floor in 1899 brownstone, w...</td>\n",
       "      <td>Just the right mix of urban center and local n...</td>\n",
       "      <td>LisaRoxanne</td>\n",
       "      <td>New York, New York, United States</td>\n",
       "      <td>Laid-back Native New Yorker (formerly bi-coast...</td>\n",
       "      <td>0.09</td>\n",
       "      <td>0.69</td>\n",
       "      <td>True</td>\n",
       "      <td>1.0</td>\n",
       "      <td>...</td>\n",
       "      <td>4.80</td>\n",
       "      <td>4.71</td>\n",
       "      <td>4.64</td>\n",
       "      <td>False</td>\n",
       "      <td>1</td>\n",
       "      <td>1</td>\n",
       "      <td>0</td>\n",
       "      <td>0</td>\n",
       "      <td>4.86</td>\n",
       "      <td>6</td>\n",
       "    </tr>\n",
       "    <tr>\n",
       "      <th>2</th>\n",
       "      <td>Spacious Brooklyn Duplex, Patio + Garden</td>\n",
       "      <td>We welcome you to stay in our lovely 2 br dupl...</td>\n",
       "      <td>NaN</td>\n",
       "      <td>Rebecca</td>\n",
       "      <td>Brooklyn, New York, United States</td>\n",
       "      <td>Rebecca is an artist/designer, and Henoch is i...</td>\n",
       "      <td>1.00</td>\n",
       "      <td>0.25</td>\n",
       "      <td>True</td>\n",
       "      <td>1.0</td>\n",
       "      <td>...</td>\n",
       "      <td>5.00</td>\n",
       "      <td>4.50</td>\n",
       "      <td>5.00</td>\n",
       "      <td>False</td>\n",
       "      <td>1</td>\n",
       "      <td>1</td>\n",
       "      <td>0</td>\n",
       "      <td>0</td>\n",
       "      <td>0.02</td>\n",
       "      <td>3</td>\n",
       "    </tr>\n",
       "    <tr>\n",
       "      <th>3</th>\n",
       "      <td>Large Furnished Room Near B'way</td>\n",
       "      <td>Please don’t expect the luxury here just a bas...</td>\n",
       "      <td>Theater district, many restaurants around here.</td>\n",
       "      <td>Shunichi</td>\n",
       "      <td>New York, New York, United States</td>\n",
       "      <td>I used to work for a financial industry but no...</td>\n",
       "      <td>1.00</td>\n",
       "      <td>1.00</td>\n",
       "      <td>True</td>\n",
       "      <td>1.0</td>\n",
       "      <td>...</td>\n",
       "      <td>4.42</td>\n",
       "      <td>4.87</td>\n",
       "      <td>4.36</td>\n",
       "      <td>False</td>\n",
       "      <td>1</td>\n",
       "      <td>0</td>\n",
       "      <td>1</td>\n",
       "      <td>0</td>\n",
       "      <td>3.68</td>\n",
       "      <td>4</td>\n",
       "    </tr>\n",
       "    <tr>\n",
       "      <th>4</th>\n",
       "      <td>Cozy Clean Guest Room - Family Apt</td>\n",
       "      <td>Our best guests are seeking a safe, clean, spa...</td>\n",
       "      <td>Our neighborhood is full of restaurants and ca...</td>\n",
       "      <td>MaryEllen</td>\n",
       "      <td>New York, New York, United States</td>\n",
       "      <td>Welcome to family life with my oldest two away...</td>\n",
       "      <td>NaN</td>\n",
       "      <td>NaN</td>\n",
       "      <td>True</td>\n",
       "      <td>1.0</td>\n",
       "      <td>...</td>\n",
       "      <td>4.95</td>\n",
       "      <td>4.94</td>\n",
       "      <td>4.92</td>\n",
       "      <td>False</td>\n",
       "      <td>1</td>\n",
       "      <td>0</td>\n",
       "      <td>1</td>\n",
       "      <td>0</td>\n",
       "      <td>0.87</td>\n",
       "      <td>7</td>\n",
       "    </tr>\n",
       "  </tbody>\n",
       "</table>\n",
       "<p>5 rows × 50 columns</p>\n",
       "</div>"
      ],
      "text/plain": [
       "                                                name  \\\n",
       "0                              Skylit Midtown Castle   \n",
       "1  Whole flr w/private bdrm, bath & kitchen(pls r...   \n",
       "2           Spacious Brooklyn Duplex, Patio + Garden   \n",
       "3                   Large Furnished Room Near B'way　   \n",
       "4                 Cozy Clean Guest Room - Family Apt   \n",
       "\n",
       "                                         description  \\\n",
       "0  Beautiful, spacious skylit studio in the heart...   \n",
       "1  Enjoy 500 s.f. top floor in 1899 brownstone, w...   \n",
       "2  We welcome you to stay in our lovely 2 br dupl...   \n",
       "3  Please don’t expect the luxury here just a bas...   \n",
       "4  Our best guests are seeking a safe, clean, spa...   \n",
       "\n",
       "                               neighborhood_overview    host_name  \\\n",
       "0  Centrally located in the heart of Manhattan ju...     Jennifer   \n",
       "1  Just the right mix of urban center and local n...  LisaRoxanne   \n",
       "2                                                NaN      Rebecca   \n",
       "3    Theater district, many restaurants around here.     Shunichi   \n",
       "4  Our neighborhood is full of restaurants and ca...    MaryEllen   \n",
       "\n",
       "                       host_location  \\\n",
       "0  New York, New York, United States   \n",
       "1  New York, New York, United States   \n",
       "2  Brooklyn, New York, United States   \n",
       "3  New York, New York, United States   \n",
       "4  New York, New York, United States   \n",
       "\n",
       "                                          host_about  host_response_rate  \\\n",
       "0  A New Yorker since 2000! My passion is creatin...                0.80   \n",
       "1  Laid-back Native New Yorker (formerly bi-coast...                0.09   \n",
       "2  Rebecca is an artist/designer, and Henoch is i...                1.00   \n",
       "3  I used to work for a financial industry but no...                1.00   \n",
       "4  Welcome to family life with my oldest two away...                 NaN   \n",
       "\n",
       "   host_acceptance_rate  host_is_superhost  host_listings_count  ...  \\\n",
       "0                  0.17               True                  8.0  ...   \n",
       "1                  0.69               True                  1.0  ...   \n",
       "2                  0.25               True                  1.0  ...   \n",
       "3                  1.00               True                  1.0  ...   \n",
       "4                   NaN               True                  1.0  ...   \n",
       "\n",
       "   review_scores_communication  review_scores_location  review_scores_value  \\\n",
       "0                         4.79                    4.86                 4.41   \n",
       "1                         4.80                    4.71                 4.64   \n",
       "2                         5.00                    4.50                 5.00   \n",
       "3                         4.42                    4.87                 4.36   \n",
       "4                         4.95                    4.94                 4.92   \n",
       "\n",
       "  instant_bookable calculated_host_listings_count  \\\n",
       "0            False                              3   \n",
       "1            False                              1   \n",
       "2            False                              1   \n",
       "3            False                              1   \n",
       "4            False                              1   \n",
       "\n",
       "   calculated_host_listings_count_entire_homes  \\\n",
       "0                                            3   \n",
       "1                                            1   \n",
       "2                                            1   \n",
       "3                                            0   \n",
       "4                                            0   \n",
       "\n",
       "   calculated_host_listings_count_private_rooms  \\\n",
       "0                                             0   \n",
       "1                                             0   \n",
       "2                                             0   \n",
       "3                                             1   \n",
       "4                                             1   \n",
       "\n",
       "   calculated_host_listings_count_shared_rooms  reviews_per_month  \\\n",
       "0                                            0               0.33   \n",
       "1                                            0               4.86   \n",
       "2                                            0               0.02   \n",
       "3                                            0               3.68   \n",
       "4                                            0               0.87   \n",
       "\n",
       "  n_host_verifications  \n",
       "0                    9  \n",
       "1                    6  \n",
       "2                    3  \n",
       "3                    4  \n",
       "4                    7  \n",
       "\n",
       "[5 rows x 50 columns]"
      ]
     },
     "execution_count": 2,
     "metadata": {},
     "output_type": "execute_result"
    }
   ],
   "source": [
    "# File names of the four data sets\n",
    "adultDataSet_filename = os.path.join(os.getcwd(), \"data\", \"censusData.csv\")\n",
    "airbnbDataSet_filename = os.path.join(os.getcwd(), \"data\", \"airbnbListingsData.csv\")\n",
    "WHRDataSet_filename = os.path.join(os.getcwd(), \"data\", \"WHR2018Chapter2OnlineData.csv\")\n",
    "bookReviewDataSet_filename = os.path.join(os.getcwd(), \"data\", \"bookReviewsData.csv\")\n",
    "\n",
    "\n",
    "df = pd.read_csv(airbnbDataSet_filename) # YOUR CODE HERE\n",
    "\n",
    "df.head()"
   ]
  },
  {
   "cell_type": "markdown",
   "metadata": {},
   "source": [
    "## Part 2: Define Your ML Problem\n",
    "\n",
    "Next you will formulate your ML Problem. In the markdown cell below, answer the following questions:\n",
    "\n",
    "1. List the data set you have chosen.\n",
    "2. What will you be predicting? What is the label?\n",
    "3. Is this a supervised or unsupervised learning problem? Is this a clustering, classification or regression problem? Is it a binary classificaiton or multi-class classifiction problem?\n",
    "4. What are your features? (note: this list may change after your explore your data)\n",
    "5. Explain why this is an important problem. In other words, how would a company create value with a model that predicts this label?"
   ]
  },
  {
   "cell_type": "markdown",
   "metadata": {},
   "source": [
    "<Double click this Markdown cell to make it editable, and record your answers here.>\n",
    "\n",
    "1) I have chosen the airbnb listings data set.\n",
    "\n",
    "2) I will be predicting the price of an airbnb based on provided features. My label is the price column.\n",
    "\n",
    "3) This is a supervised learning problem, as I will be providing the label (the price) in the training data. This is a regression problem, as I am predicting a continous outcome (a number).\n",
    "\n",
    "4) My features pre-data exploration are all of the features present in the data set other than the price column.\n",
    "\n",
    "5) This is an important problem because a company may want to know what the price of an airbnb is based on many features (such as ratings, reviews, size, etc.) in order to create competitive pricings for similar properties in order to gain customers. Alternatively, a company could help airbnb owners price their properties appropriately (based on the same features present in the data set) for a small fee. \n"
   ]
  },
  {
   "cell_type": "markdown",
   "metadata": {},
   "source": [
    "## Part 3: Understand Your Data\n",
    "\n",
    "The next step is to perform exploratory data analysis. Inspect and analyze your data set with your machine learning problem in mind. Consider the following as you inspect your data:\n",
    "\n",
    "1. What data preparation techniques would you like to use? These data preparation techniques may include:\n",
    "\n",
    "    * addressing missingness, such as replacing missing values with means\n",
    "    * finding and replacing outliers\n",
    "    * renaming features and labels\n",
    "    * finding and replacing outliers\n",
    "    * performing feature engineering techniques such as one-hot encoding on categorical features\n",
    "    * selecting appropriate features and removing irrelevant features\n",
    "    * performing specific data cleaning and preprocessing techniques for an NLP problem\n",
    "    * addressing class imbalance in your data sample to promote fair AI\n",
    "    \n",
    "\n",
    "2. What machine learning model (or models) you would like to use that is suitable for your predictive problem and data?\n",
    "    * Are there other data preparation techniques that you will need to apply to build a balanced modeling data set for your problem and model? For example, will you need to scale your data?\n",
    " \n",
    " \n",
    "3. How will you evaluate and improve the model's performance?\n",
    "    * Are there specific evaluation metrics and methods that are appropriate for your model?\n",
    "    \n",
    "\n",
    "Think of the different techniques you have used to inspect and analyze your data in this course. These include using Pandas to apply data filters, using the Pandas `describe()` method to get insight into key statistics for each column, using the Pandas `dtypes` property to inspect the data type of each column, and using Matplotlib and Seaborn to detect outliers and visualize relationships between features and labels. If you are working on a classification problem, use techniques you have learned to determine if there is class imbalance.\n",
    "\n",
    "<b>Task</b>: Use the techniques you have learned in this course to inspect and analyze your data. You can import additional packages that you have used in this course that you will need to perform this task.\n",
    "\n",
    "<b>Note</b>: You can add code cells if needed by going to the <b>Insert</b> menu and clicking on <b>Insert Cell Below</b> in the drop-drown menu."
   ]
  },
  {
   "cell_type": "code",
   "execution_count": 3,
   "metadata": {},
   "outputs": [],
   "source": [
    "import scipy.stats as stats"
   ]
  },
  {
   "cell_type": "code",
   "execution_count": 4,
   "metadata": {},
   "outputs": [
    {
     "data": {
      "text/html": [
       "<div>\n",
       "<style scoped>\n",
       "    .dataframe tbody tr th:only-of-type {\n",
       "        vertical-align: middle;\n",
       "    }\n",
       "\n",
       "    .dataframe tbody tr th {\n",
       "        vertical-align: top;\n",
       "    }\n",
       "\n",
       "    .dataframe thead th {\n",
       "        text-align: right;\n",
       "    }\n",
       "</style>\n",
       "<table border=\"1\" class=\"dataframe\">\n",
       "  <thead>\n",
       "    <tr style=\"text-align: right;\">\n",
       "      <th></th>\n",
       "      <th>host_response_rate</th>\n",
       "      <th>host_acceptance_rate</th>\n",
       "      <th>host_listings_count</th>\n",
       "      <th>host_total_listings_count</th>\n",
       "      <th>accommodates</th>\n",
       "      <th>bathrooms</th>\n",
       "      <th>bedrooms</th>\n",
       "      <th>beds</th>\n",
       "      <th>price</th>\n",
       "      <th>minimum_nights</th>\n",
       "      <th>...</th>\n",
       "      <th>review_scores_checkin</th>\n",
       "      <th>review_scores_communication</th>\n",
       "      <th>review_scores_location</th>\n",
       "      <th>review_scores_value</th>\n",
       "      <th>calculated_host_listings_count</th>\n",
       "      <th>calculated_host_listings_count_entire_homes</th>\n",
       "      <th>calculated_host_listings_count_private_rooms</th>\n",
       "      <th>calculated_host_listings_count_shared_rooms</th>\n",
       "      <th>reviews_per_month</th>\n",
       "      <th>n_host_verifications</th>\n",
       "    </tr>\n",
       "  </thead>\n",
       "  <tbody>\n",
       "    <tr>\n",
       "      <th>count</th>\n",
       "      <td>16179.000000</td>\n",
       "      <td>16909.000000</td>\n",
       "      <td>28022.000000</td>\n",
       "      <td>28022.000000</td>\n",
       "      <td>28022.000000</td>\n",
       "      <td>28022.000000</td>\n",
       "      <td>25104.000000</td>\n",
       "      <td>26668.000000</td>\n",
       "      <td>28022.000000</td>\n",
       "      <td>28022.000000</td>\n",
       "      <td>...</td>\n",
       "      <td>28022.000000</td>\n",
       "      <td>28022.000000</td>\n",
       "      <td>28022.000000</td>\n",
       "      <td>28022.000000</td>\n",
       "      <td>28022.000000</td>\n",
       "      <td>28022.000000</td>\n",
       "      <td>28022.000000</td>\n",
       "      <td>28022.000000</td>\n",
       "      <td>28022.000000</td>\n",
       "      <td>28022.000000</td>\n",
       "    </tr>\n",
       "    <tr>\n",
       "      <th>mean</th>\n",
       "      <td>0.906901</td>\n",
       "      <td>0.791953</td>\n",
       "      <td>14.554778</td>\n",
       "      <td>14.554778</td>\n",
       "      <td>2.874491</td>\n",
       "      <td>1.142174</td>\n",
       "      <td>1.329708</td>\n",
       "      <td>1.629556</td>\n",
       "      <td>154.228749</td>\n",
       "      <td>18.689387</td>\n",
       "      <td>...</td>\n",
       "      <td>4.814300</td>\n",
       "      <td>4.808041</td>\n",
       "      <td>4.750393</td>\n",
       "      <td>4.647670</td>\n",
       "      <td>9.581900</td>\n",
       "      <td>5.562986</td>\n",
       "      <td>3.902077</td>\n",
       "      <td>0.048283</td>\n",
       "      <td>1.758325</td>\n",
       "      <td>5.169510</td>\n",
       "    </tr>\n",
       "    <tr>\n",
       "      <th>std</th>\n",
       "      <td>0.227282</td>\n",
       "      <td>0.276732</td>\n",
       "      <td>120.721287</td>\n",
       "      <td>120.721287</td>\n",
       "      <td>1.860251</td>\n",
       "      <td>0.421132</td>\n",
       "      <td>0.700726</td>\n",
       "      <td>1.097104</td>\n",
       "      <td>140.816605</td>\n",
       "      <td>25.569151</td>\n",
       "      <td>...</td>\n",
       "      <td>0.438603</td>\n",
       "      <td>0.464585</td>\n",
       "      <td>0.415717</td>\n",
       "      <td>0.518023</td>\n",
       "      <td>32.227523</td>\n",
       "      <td>26.121426</td>\n",
       "      <td>17.972386</td>\n",
       "      <td>0.442459</td>\n",
       "      <td>4.446143</td>\n",
       "      <td>2.028497</td>\n",
       "    </tr>\n",
       "    <tr>\n",
       "      <th>min</th>\n",
       "      <td>0.000000</td>\n",
       "      <td>0.000000</td>\n",
       "      <td>0.000000</td>\n",
       "      <td>0.000000</td>\n",
       "      <td>1.000000</td>\n",
       "      <td>0.000000</td>\n",
       "      <td>1.000000</td>\n",
       "      <td>1.000000</td>\n",
       "      <td>29.000000</td>\n",
       "      <td>1.000000</td>\n",
       "      <td>...</td>\n",
       "      <td>0.000000</td>\n",
       "      <td>0.000000</td>\n",
       "      <td>0.000000</td>\n",
       "      <td>0.000000</td>\n",
       "      <td>1.000000</td>\n",
       "      <td>0.000000</td>\n",
       "      <td>0.000000</td>\n",
       "      <td>0.000000</td>\n",
       "      <td>0.010000</td>\n",
       "      <td>1.000000</td>\n",
       "    </tr>\n",
       "    <tr>\n",
       "      <th>25%</th>\n",
       "      <td>0.940000</td>\n",
       "      <td>0.680000</td>\n",
       "      <td>1.000000</td>\n",
       "      <td>1.000000</td>\n",
       "      <td>2.000000</td>\n",
       "      <td>1.000000</td>\n",
       "      <td>1.000000</td>\n",
       "      <td>1.000000</td>\n",
       "      <td>70.000000</td>\n",
       "      <td>2.000000</td>\n",
       "      <td>...</td>\n",
       "      <td>4.810000</td>\n",
       "      <td>4.810000</td>\n",
       "      <td>4.670000</td>\n",
       "      <td>4.550000</td>\n",
       "      <td>1.000000</td>\n",
       "      <td>0.000000</td>\n",
       "      <td>0.000000</td>\n",
       "      <td>0.000000</td>\n",
       "      <td>0.130000</td>\n",
       "      <td>4.000000</td>\n",
       "    </tr>\n",
       "    <tr>\n",
       "      <th>50%</th>\n",
       "      <td>1.000000</td>\n",
       "      <td>0.910000</td>\n",
       "      <td>1.000000</td>\n",
       "      <td>1.000000</td>\n",
       "      <td>2.000000</td>\n",
       "      <td>1.000000</td>\n",
       "      <td>1.000000</td>\n",
       "      <td>1.000000</td>\n",
       "      <td>115.000000</td>\n",
       "      <td>30.000000</td>\n",
       "      <td>...</td>\n",
       "      <td>4.960000</td>\n",
       "      <td>4.970000</td>\n",
       "      <td>4.880000</td>\n",
       "      <td>4.780000</td>\n",
       "      <td>1.000000</td>\n",
       "      <td>1.000000</td>\n",
       "      <td>0.000000</td>\n",
       "      <td>0.000000</td>\n",
       "      <td>0.510000</td>\n",
       "      <td>5.000000</td>\n",
       "    </tr>\n",
       "    <tr>\n",
       "      <th>75%</th>\n",
       "      <td>1.000000</td>\n",
       "      <td>1.000000</td>\n",
       "      <td>3.000000</td>\n",
       "      <td>3.000000</td>\n",
       "      <td>4.000000</td>\n",
       "      <td>1.000000</td>\n",
       "      <td>1.000000</td>\n",
       "      <td>2.000000</td>\n",
       "      <td>180.000000</td>\n",
       "      <td>30.000000</td>\n",
       "      <td>...</td>\n",
       "      <td>5.000000</td>\n",
       "      <td>5.000000</td>\n",
       "      <td>5.000000</td>\n",
       "      <td>5.000000</td>\n",
       "      <td>3.000000</td>\n",
       "      <td>1.000000</td>\n",
       "      <td>1.000000</td>\n",
       "      <td>0.000000</td>\n",
       "      <td>1.830000</td>\n",
       "      <td>7.000000</td>\n",
       "    </tr>\n",
       "    <tr>\n",
       "      <th>max</th>\n",
       "      <td>1.000000</td>\n",
       "      <td>1.000000</td>\n",
       "      <td>3387.000000</td>\n",
       "      <td>3387.000000</td>\n",
       "      <td>16.000000</td>\n",
       "      <td>8.000000</td>\n",
       "      <td>12.000000</td>\n",
       "      <td>21.000000</td>\n",
       "      <td>1000.000000</td>\n",
       "      <td>1250.000000</td>\n",
       "      <td>...</td>\n",
       "      <td>5.000000</td>\n",
       "      <td>5.000000</td>\n",
       "      <td>5.000000</td>\n",
       "      <td>5.000000</td>\n",
       "      <td>421.000000</td>\n",
       "      <td>308.000000</td>\n",
       "      <td>359.000000</td>\n",
       "      <td>8.000000</td>\n",
       "      <td>141.000000</td>\n",
       "      <td>13.000000</td>\n",
       "    </tr>\n",
       "  </tbody>\n",
       "</table>\n",
       "<p>8 rows × 36 columns</p>\n",
       "</div>"
      ],
      "text/plain": [
       "       host_response_rate  host_acceptance_rate  host_listings_count  \\\n",
       "count        16179.000000          16909.000000         28022.000000   \n",
       "mean             0.906901              0.791953            14.554778   \n",
       "std              0.227282              0.276732           120.721287   \n",
       "min              0.000000              0.000000             0.000000   \n",
       "25%              0.940000              0.680000             1.000000   \n",
       "50%              1.000000              0.910000             1.000000   \n",
       "75%              1.000000              1.000000             3.000000   \n",
       "max              1.000000              1.000000          3387.000000   \n",
       "\n",
       "       host_total_listings_count  accommodates     bathrooms      bedrooms  \\\n",
       "count               28022.000000  28022.000000  28022.000000  25104.000000   \n",
       "mean                   14.554778      2.874491      1.142174      1.329708   \n",
       "std                   120.721287      1.860251      0.421132      0.700726   \n",
       "min                     0.000000      1.000000      0.000000      1.000000   \n",
       "25%                     1.000000      2.000000      1.000000      1.000000   \n",
       "50%                     1.000000      2.000000      1.000000      1.000000   \n",
       "75%                     3.000000      4.000000      1.000000      1.000000   \n",
       "max                  3387.000000     16.000000      8.000000     12.000000   \n",
       "\n",
       "               beds         price  minimum_nights  ...  review_scores_checkin  \\\n",
       "count  26668.000000  28022.000000    28022.000000  ...           28022.000000   \n",
       "mean       1.629556    154.228749       18.689387  ...               4.814300   \n",
       "std        1.097104    140.816605       25.569151  ...               0.438603   \n",
       "min        1.000000     29.000000        1.000000  ...               0.000000   \n",
       "25%        1.000000     70.000000        2.000000  ...               4.810000   \n",
       "50%        1.000000    115.000000       30.000000  ...               4.960000   \n",
       "75%        2.000000    180.000000       30.000000  ...               5.000000   \n",
       "max       21.000000   1000.000000     1250.000000  ...               5.000000   \n",
       "\n",
       "       review_scores_communication  review_scores_location  \\\n",
       "count                 28022.000000            28022.000000   \n",
       "mean                      4.808041                4.750393   \n",
       "std                       0.464585                0.415717   \n",
       "min                       0.000000                0.000000   \n",
       "25%                       4.810000                4.670000   \n",
       "50%                       4.970000                4.880000   \n",
       "75%                       5.000000                5.000000   \n",
       "max                       5.000000                5.000000   \n",
       "\n",
       "       review_scores_value  calculated_host_listings_count  \\\n",
       "count         28022.000000                    28022.000000   \n",
       "mean              4.647670                        9.581900   \n",
       "std               0.518023                       32.227523   \n",
       "min               0.000000                        1.000000   \n",
       "25%               4.550000                        1.000000   \n",
       "50%               4.780000                        1.000000   \n",
       "75%               5.000000                        3.000000   \n",
       "max               5.000000                      421.000000   \n",
       "\n",
       "       calculated_host_listings_count_entire_homes  \\\n",
       "count                                 28022.000000   \n",
       "mean                                      5.562986   \n",
       "std                                      26.121426   \n",
       "min                                       0.000000   \n",
       "25%                                       0.000000   \n",
       "50%                                       1.000000   \n",
       "75%                                       1.000000   \n",
       "max                                     308.000000   \n",
       "\n",
       "       calculated_host_listings_count_private_rooms  \\\n",
       "count                                  28022.000000   \n",
       "mean                                       3.902077   \n",
       "std                                       17.972386   \n",
       "min                                        0.000000   \n",
       "25%                                        0.000000   \n",
       "50%                                        0.000000   \n",
       "75%                                        1.000000   \n",
       "max                                      359.000000   \n",
       "\n",
       "       calculated_host_listings_count_shared_rooms  reviews_per_month  \\\n",
       "count                                 28022.000000       28022.000000   \n",
       "mean                                      0.048283           1.758325   \n",
       "std                                       0.442459           4.446143   \n",
       "min                                       0.000000           0.010000   \n",
       "25%                                       0.000000           0.130000   \n",
       "50%                                       0.000000           0.510000   \n",
       "75%                                       0.000000           1.830000   \n",
       "max                                       8.000000         141.000000   \n",
       "\n",
       "       n_host_verifications  \n",
       "count          28022.000000  \n",
       "mean               5.169510  \n",
       "std                2.028497  \n",
       "min                1.000000  \n",
       "25%                4.000000  \n",
       "50%                5.000000  \n",
       "75%                7.000000  \n",
       "max               13.000000  \n",
       "\n",
       "[8 rows x 36 columns]"
      ]
     },
     "execution_count": 4,
     "metadata": {},
     "output_type": "execute_result"
    }
   ],
   "source": [
    "#use the describe() method to visualize statistics\n",
    "df.describe()"
   ]
  },
  {
   "cell_type": "code",
   "execution_count": 5,
   "metadata": {},
   "outputs": [
    {
     "data": {
      "text/plain": [
       "name                                             object\n",
       "description                                      object\n",
       "neighborhood_overview                            object\n",
       "host_name                                        object\n",
       "host_location                                    object\n",
       "host_about                                       object\n",
       "host_response_rate                              float64\n",
       "host_acceptance_rate                            float64\n",
       "host_is_superhost                                  bool\n",
       "host_listings_count                             float64\n",
       "host_total_listings_count                       float64\n",
       "host_has_profile_pic                               bool\n",
       "host_identity_verified                             bool\n",
       "neighbourhood_group_cleansed                     object\n",
       "room_type                                        object\n",
       "accommodates                                      int64\n",
       "bathrooms                                       float64\n",
       "bedrooms                                        float64\n",
       "beds                                            float64\n",
       "amenities                                        object\n",
       "price                                           float64\n",
       "minimum_nights                                    int64\n",
       "maximum_nights                                    int64\n",
       "minimum_minimum_nights                          float64\n",
       "maximum_minimum_nights                          float64\n",
       "minimum_maximum_nights                          float64\n",
       "maximum_maximum_nights                          float64\n",
       "minimum_nights_avg_ntm                          float64\n",
       "maximum_nights_avg_ntm                          float64\n",
       "has_availability                                   bool\n",
       "availability_30                                   int64\n",
       "availability_60                                   int64\n",
       "availability_90                                   int64\n",
       "availability_365                                  int64\n",
       "number_of_reviews                                 int64\n",
       "number_of_reviews_ltm                             int64\n",
       "number_of_reviews_l30d                            int64\n",
       "review_scores_rating                            float64\n",
       "review_scores_cleanliness                       float64\n",
       "review_scores_checkin                           float64\n",
       "review_scores_communication                     float64\n",
       "review_scores_location                          float64\n",
       "review_scores_value                             float64\n",
       "instant_bookable                                   bool\n",
       "calculated_host_listings_count                    int64\n",
       "calculated_host_listings_count_entire_homes       int64\n",
       "calculated_host_listings_count_private_rooms      int64\n",
       "calculated_host_listings_count_shared_rooms       int64\n",
       "reviews_per_month                               float64\n",
       "n_host_verifications                              int64\n",
       "dtype: object"
      ]
     },
     "execution_count": 5,
     "metadata": {},
     "output_type": "execute_result"
    }
   ],
   "source": [
    "#inspect column names and datatypes\n",
    "df.dtypes"
   ]
  },
  {
   "cell_type": "code",
   "execution_count": 6,
   "metadata": {},
   "outputs": [
    {
     "name": "stdout",
     "output_type": "stream",
     "text": [
      "name 27386\n",
      "description 25952\n",
      "neighborhood_overview 15800\n",
      "host_name 7566\n",
      "host_location 1364\n",
      "host_about 11962\n",
      "neighbourhood_group_cleansed 5\n",
      "room_type 4\n",
      "amenities 25020\n"
     ]
    }
   ],
   "source": [
    "#inspect columns that have object values\n",
    "object_columns = df.select_dtypes(include = 'object')\n",
    "for column in object_columns:\n",
    "    print(column, df[column].nunique())"
   ]
  },
  {
   "cell_type": "code",
   "execution_count": 7,
   "metadata": {},
   "outputs": [
    {
     "name": "stdout",
     "output_type": "stream",
     "text": [
      "(28022, 50)\n",
      "neighourhood_group_cleansed: ['Manhattan' 'Brooklyn' 'Queens' 'Staten Island' 'Bronx']\n",
      "room_type: ['Entire home/apt' 'Private room' 'Hotel room' 'Shared room']\n"
     ]
    }
   ],
   "source": [
    "#inspect the neighbourhood_group_cleansed and room_type values\n",
    "print(df.shape)\n",
    "print('neighourhood_group_cleansed:', df['neighbourhood_group_cleansed'].unique())\n",
    "print('room_type:', df['room_type'].unique())"
   ]
  },
  {
   "cell_type": "code",
   "execution_count": 8,
   "metadata": {},
   "outputs": [
    {
     "name": "stdout",
     "output_type": "stream",
     "text": [
      "original shape: (28022, 43)\n"
     ]
    }
   ],
   "source": [
    "#drop all object columns except neighbourhood_group_cleansed and room_type because the others have far too many values to one-hot encode\n",
    "to_drop = ['name', 'description', 'neighborhood_overview', 'host_name', 'host_location', 'host_about', 'amenities']\n",
    "df_new = df.drop(labels = to_drop, axis = 1)\n",
    "print('original shape:', df_new.shape)"
   ]
  },
  {
   "cell_type": "markdown",
   "metadata": {},
   "source": [
    "## Analysis of Data Inspection"
   ]
  },
  {
   "cell_type": "markdown",
   "metadata": {},
   "source": [
    "Through performing the above inspections, I have deduced that I will perform one-hot encoding on the neighbourhood_group_cleansed and room_type features. Also, I created a new data frame, called df_new, that lacks the features I removed. I will now use only this data frame."
   ]
  },
  {
   "cell_type": "markdown",
   "metadata": {},
   "source": [
    "## Part 4: Define Your Project Plan\n",
    "\n",
    "Now that you understand your data, in the markdown cell below, define your plan to implement the remaining phases of the machine learning life cycle (data preparation, modeling, evaluation) to solve your ML problem. Answer the following questions:\n",
    "\n",
    "* Do you have a new feature list? If so, what are the features that you chose to keep and remove after inspecting the data? \n",
    "* Explain different data preparation techniques that you will use to prepare your data for modeling.\n",
    "* What is your model (or models)?\n",
    "* Describe your plan to train your model, analyze its performance and then improve the model. That is, describe your model building, validation and selection plan to produce a model that generalizes well to new data. "
   ]
  },
  {
   "cell_type": "markdown",
   "metadata": {},
   "source": [
    "## My Project Plan"
   ]
  },
  {
   "cell_type": "markdown",
   "metadata": {},
   "source": [
    "<Double click this Markdown cell to make it editable, and record your answers here.>\n",
    "\n",
    "Yes, I do have a new feature list. I am keeping all of the features except these: ['name', 'description', 'neighborhood_overview', 'host_name', 'host_location', 'host_about', 'amenities']. These are features with the object data type that have too many unique values to perform one-hot encoding. Additionally, I do not think that a feature like 'host_name' would have predictive value in this problem.\n",
    "\n",
    "To prepare my data, I will first perform one-hot encoding on the object columns. Then, I will use the winsorization technique to eliminate outliers from my data. Then, I will use the fillna() method to replace any missing values with their mean. Next, I will transform the boolean features to have values of 1s or 0s using the replace() method. Then, I will analyze the correlation of each feature with the label and remove  features that have a less than 2% correlation with the label. \n",
    "\n",
    "The models I am going to experiment with are linear regression, decision trees, and possibly random forest, gradient boosted decision trees, and neural networks.\n",
    "\n",
    "I plan on using grid-search to test linear regression and decision trees initially, testing various hyperparameters for them. I will create graphs of the hyperparameters vs. accuracy of my model to analyze how changes in the hyperparameters affect the model's performance. If I determine that I should be testing more hyperparameter values, I will do so. \n",
    "I will then determine the model that so far has the best accuracy, and I will then perform feature selection to determine which number of features yields the optimal performance. If I decide that my model is still not performing as well as I want it to, I might try random forest, gradient boosted decision trees, or neural networks to see if they demonstrate better performance.\n"
   ]
  },
  {
   "cell_type": "markdown",
   "metadata": {},
   "source": [
    "## Part 5: Implement Your Project Plan\n",
    "\n",
    "<b>Task:</b> In the code cell below, import additional packages that you have used in this course that you will need to implement your project plan."
   ]
  },
  {
   "cell_type": "code",
   "execution_count": 9,
   "metadata": {},
   "outputs": [],
   "source": [
    "# YOUR CODE HERE\n",
    "#will need to import linear model things, such as accuracy metrics\n",
    "from sklearn.linear_model import LinearRegression, Ridge, Lasso\n",
    "from sklearn.model_selection import train_test_split\n",
    "from sklearn.metrics import mean_squared_error, r2_score\n",
    "from sklearn.metrics import accuracy_score\n",
    "from sklearn.linear_model import SGDRegressor\n",
    "\n",
    "#import decision trees\n",
    "from sklearn.tree import DecisionTreeRegressor\n",
    "\n",
    "#import grid-search and cross-validation tools\n",
    "from sklearn.model_selection import cross_val_score\n",
    "from sklearn.model_selection import validation_curve\n",
    "from sklearn.model_selection import GridSearchCV\n",
    "\n",
    "#import graphing tools\n",
    "import matplotlib.pyplot as plt\n",
    "import seaborn as sns\n",
    "\n",
    "#import random forest-maybe\n",
    "from sklearn.ensemble import RandomForestRegressor\n",
    "\n",
    "#import gradient boosted decision trees-maybe\n",
    "#import neural networks-maybe"
   ]
  },
  {
   "cell_type": "markdown",
   "metadata": {},
   "source": [
    "<b>Task:</b> Use the rest of this notebook to carry out your project plan. \n",
    "\n",
    "You will:\n",
    "\n",
    "1. Prepare your data for your model.\n",
    "2. Fit your model to the training data and evaluate your model.\n",
    "3. Improve your model's performance by performing model selection and/or feature selection techniques to find best model for your problem.\n",
    "\n",
    "Add code cells below and populate the notebook with commentary, code, analyses, results, and figures as you see fit. "
   ]
  },
  {
   "cell_type": "markdown",
   "metadata": {},
   "source": [
    "## Data Preparation"
   ]
  },
  {
   "cell_type": "code",
   "execution_count": 10,
   "metadata": {},
   "outputs": [
    {
     "name": "stdout",
     "output_type": "stream",
     "text": [
      "new shape: (28022, 50)\n"
     ]
    },
    {
     "data": {
      "text/plain": [
       "Index(['host_response_rate', 'host_acceptance_rate', 'host_is_superhost',\n",
       "       'host_listings_count', 'host_total_listings_count',\n",
       "       'host_has_profile_pic', 'host_identity_verified', 'accommodates',\n",
       "       'bathrooms', 'bedrooms', 'beds', 'price', 'minimum_nights',\n",
       "       'maximum_nights', 'minimum_minimum_nights', 'maximum_minimum_nights',\n",
       "       'minimum_maximum_nights', 'maximum_maximum_nights',\n",
       "       'minimum_nights_avg_ntm', 'maximum_nights_avg_ntm', 'has_availability',\n",
       "       'availability_30', 'availability_60', 'availability_90',\n",
       "       'availability_365', 'number_of_reviews', 'number_of_reviews_ltm',\n",
       "       'number_of_reviews_l30d', 'review_scores_rating',\n",
       "       'review_scores_cleanliness', 'review_scores_checkin',\n",
       "       'review_scores_communication', 'review_scores_location',\n",
       "       'review_scores_value', 'instant_bookable',\n",
       "       'calculated_host_listings_count',\n",
       "       'calculated_host_listings_count_entire_homes',\n",
       "       'calculated_host_listings_count_private_rooms',\n",
       "       'calculated_host_listings_count_shared_rooms', 'reviews_per_month',\n",
       "       'n_host_verifications', 'neighbourhood_group_cleansed__Bronx',\n",
       "       'neighbourhood_group_cleansed__Brooklyn',\n",
       "       'neighbourhood_group_cleansed__Manhattan',\n",
       "       'neighbourhood_group_cleansed__Queens',\n",
       "       'neighbourhood_group_cleansed__Staten Island',\n",
       "       'room_type__Entire home/apt', 'room_type__Hotel room',\n",
       "       'room_type__Private room', 'room_type__Shared room'],\n",
       "      dtype='object')"
      ]
     },
     "execution_count": 10,
     "metadata": {},
     "output_type": "execute_result"
    }
   ],
   "source": [
    "# YOUR CODE HERE\n",
    "\n",
    "#perform one-hot encoding on the neighbourhood_group_cleansed and the room_type columns\n",
    "to_encode = ['neighbourhood_group_cleansed', 'room_type']\n",
    "\n",
    "for column in to_encode:\n",
    "    #create the new encoded data frame\n",
    "    df_encoded = pd.get_dummies(df_new[column], prefix = column + '_')\n",
    "    #join the encoded data frame with the original data frame\n",
    "    df_new = df_new.join(df_encoded)\n",
    "    #drop the original column from the data frame\n",
    "    df_new = df_new.drop(labels = column, axis = 1)\n",
    "    \n",
    "#display new shape, should be 50 columns\n",
    "print('new shape:', df_new.shape)\n",
    "\n",
    "#display the new column names to ensure that the one-hot encoding worked\n",
    "df_new.columns"
   ]
  },
  {
   "cell_type": "code",
   "execution_count": 11,
   "metadata": {},
   "outputs": [
    {
     "name": "stdout",
     "output_type": "stream",
     "text": [
      "0          0.0\n",
      "1          0.0\n",
      "2          0.0\n",
      "3          0.0\n",
      "4          0.0\n",
      "         ...  \n",
      "28017      0.0\n",
      "28018   -101.0\n",
      "28019      0.0\n",
      "28020      0.0\n",
      "28021      0.0\n",
      "Length: 28022, dtype: float64\n"
     ]
    },
    {
     "data": {
      "text/html": [
       "<div>\n",
       "<style scoped>\n",
       "    .dataframe tbody tr th:only-of-type {\n",
       "        vertical-align: middle;\n",
       "    }\n",
       "\n",
       "    .dataframe tbody tr th {\n",
       "        vertical-align: top;\n",
       "    }\n",
       "\n",
       "    .dataframe thead th {\n",
       "        text-align: right;\n",
       "    }\n",
       "</style>\n",
       "<table border=\"1\" class=\"dataframe\">\n",
       "  <thead>\n",
       "    <tr style=\"text-align: right;\">\n",
       "      <th></th>\n",
       "      <th>host_response_rate</th>\n",
       "      <th>host_acceptance_rate</th>\n",
       "      <th>host_is_superhost</th>\n",
       "      <th>host_listings_count</th>\n",
       "      <th>host_total_listings_count</th>\n",
       "      <th>host_has_profile_pic</th>\n",
       "      <th>host_identity_verified</th>\n",
       "      <th>accommodates</th>\n",
       "      <th>bathrooms</th>\n",
       "      <th>bedrooms</th>\n",
       "      <th>...</th>\n",
       "      <th>n_host_verifications</th>\n",
       "      <th>neighbourhood_group_cleansed__Bronx</th>\n",
       "      <th>neighbourhood_group_cleansed__Brooklyn</th>\n",
       "      <th>neighbourhood_group_cleansed__Manhattan</th>\n",
       "      <th>neighbourhood_group_cleansed__Queens</th>\n",
       "      <th>neighbourhood_group_cleansed__Staten Island</th>\n",
       "      <th>room_type__Entire home/apt</th>\n",
       "      <th>room_type__Hotel room</th>\n",
       "      <th>room_type__Private room</th>\n",
       "      <th>room_type__Shared room</th>\n",
       "    </tr>\n",
       "  </thead>\n",
       "  <tbody>\n",
       "    <tr>\n",
       "      <th>0</th>\n",
       "      <td>0.80</td>\n",
       "      <td>0.17</td>\n",
       "      <td>True</td>\n",
       "      <td>8.0</td>\n",
       "      <td>8.0</td>\n",
       "      <td>True</td>\n",
       "      <td>True</td>\n",
       "      <td>1</td>\n",
       "      <td>1.0</td>\n",
       "      <td>NaN</td>\n",
       "      <td>...</td>\n",
       "      <td>9</td>\n",
       "      <td>0</td>\n",
       "      <td>0</td>\n",
       "      <td>1</td>\n",
       "      <td>0</td>\n",
       "      <td>0</td>\n",
       "      <td>1</td>\n",
       "      <td>0</td>\n",
       "      <td>0</td>\n",
       "      <td>0</td>\n",
       "    </tr>\n",
       "    <tr>\n",
       "      <th>1</th>\n",
       "      <td>0.09</td>\n",
       "      <td>0.69</td>\n",
       "      <td>True</td>\n",
       "      <td>1.0</td>\n",
       "      <td>1.0</td>\n",
       "      <td>True</td>\n",
       "      <td>True</td>\n",
       "      <td>3</td>\n",
       "      <td>1.0</td>\n",
       "      <td>1.0</td>\n",
       "      <td>...</td>\n",
       "      <td>6</td>\n",
       "      <td>0</td>\n",
       "      <td>1</td>\n",
       "      <td>0</td>\n",
       "      <td>0</td>\n",
       "      <td>0</td>\n",
       "      <td>1</td>\n",
       "      <td>0</td>\n",
       "      <td>0</td>\n",
       "      <td>0</td>\n",
       "    </tr>\n",
       "    <tr>\n",
       "      <th>2</th>\n",
       "      <td>1.00</td>\n",
       "      <td>0.25</td>\n",
       "      <td>True</td>\n",
       "      <td>1.0</td>\n",
       "      <td>1.0</td>\n",
       "      <td>True</td>\n",
       "      <td>True</td>\n",
       "      <td>4</td>\n",
       "      <td>1.5</td>\n",
       "      <td>2.0</td>\n",
       "      <td>...</td>\n",
       "      <td>3</td>\n",
       "      <td>0</td>\n",
       "      <td>1</td>\n",
       "      <td>0</td>\n",
       "      <td>0</td>\n",
       "      <td>0</td>\n",
       "      <td>1</td>\n",
       "      <td>0</td>\n",
       "      <td>0</td>\n",
       "      <td>0</td>\n",
       "    </tr>\n",
       "    <tr>\n",
       "      <th>3</th>\n",
       "      <td>1.00</td>\n",
       "      <td>1.00</td>\n",
       "      <td>True</td>\n",
       "      <td>1.0</td>\n",
       "      <td>1.0</td>\n",
       "      <td>True</td>\n",
       "      <td>True</td>\n",
       "      <td>2</td>\n",
       "      <td>1.0</td>\n",
       "      <td>1.0</td>\n",
       "      <td>...</td>\n",
       "      <td>4</td>\n",
       "      <td>0</td>\n",
       "      <td>0</td>\n",
       "      <td>1</td>\n",
       "      <td>0</td>\n",
       "      <td>0</td>\n",
       "      <td>0</td>\n",
       "      <td>0</td>\n",
       "      <td>1</td>\n",
       "      <td>0</td>\n",
       "    </tr>\n",
       "    <tr>\n",
       "      <th>4</th>\n",
       "      <td>NaN</td>\n",
       "      <td>NaN</td>\n",
       "      <td>True</td>\n",
       "      <td>1.0</td>\n",
       "      <td>1.0</td>\n",
       "      <td>True</td>\n",
       "      <td>True</td>\n",
       "      <td>1</td>\n",
       "      <td>1.0</td>\n",
       "      <td>1.0</td>\n",
       "      <td>...</td>\n",
       "      <td>7</td>\n",
       "      <td>0</td>\n",
       "      <td>0</td>\n",
       "      <td>1</td>\n",
       "      <td>0</td>\n",
       "      <td>0</td>\n",
       "      <td>0</td>\n",
       "      <td>0</td>\n",
       "      <td>1</td>\n",
       "      <td>0</td>\n",
       "    </tr>\n",
       "  </tbody>\n",
       "</table>\n",
       "<p>5 rows × 50 columns</p>\n",
       "</div>"
      ],
      "text/plain": [
       "   host_response_rate  host_acceptance_rate  host_is_superhost  \\\n",
       "0                0.80                  0.17               True   \n",
       "1                0.09                  0.69               True   \n",
       "2                1.00                  0.25               True   \n",
       "3                1.00                  1.00               True   \n",
       "4                 NaN                   NaN               True   \n",
       "\n",
       "   host_listings_count  host_total_listings_count  host_has_profile_pic  \\\n",
       "0                  8.0                        8.0                  True   \n",
       "1                  1.0                        1.0                  True   \n",
       "2                  1.0                        1.0                  True   \n",
       "3                  1.0                        1.0                  True   \n",
       "4                  1.0                        1.0                  True   \n",
       "\n",
       "   host_identity_verified  accommodates  bathrooms  bedrooms  ...  \\\n",
       "0                    True             1        1.0       NaN  ...   \n",
       "1                    True             3        1.0       1.0  ...   \n",
       "2                    True             4        1.5       2.0  ...   \n",
       "3                    True             2        1.0       1.0  ...   \n",
       "4                    True             1        1.0       1.0  ...   \n",
       "\n",
       "   n_host_verifications  neighbourhood_group_cleansed__Bronx  \\\n",
       "0                     9                                    0   \n",
       "1                     6                                    0   \n",
       "2                     3                                    0   \n",
       "3                     4                                    0   \n",
       "4                     7                                    0   \n",
       "\n",
       "   neighbourhood_group_cleansed__Brooklyn  \\\n",
       "0                                       0   \n",
       "1                                       1   \n",
       "2                                       1   \n",
       "3                                       0   \n",
       "4                                       0   \n",
       "\n",
       "   neighbourhood_group_cleansed__Manhattan  \\\n",
       "0                                        1   \n",
       "1                                        0   \n",
       "2                                        0   \n",
       "3                                        1   \n",
       "4                                        1   \n",
       "\n",
       "   neighbourhood_group_cleansed__Queens  \\\n",
       "0                                     0   \n",
       "1                                     0   \n",
       "2                                     0   \n",
       "3                                     0   \n",
       "4                                     0   \n",
       "\n",
       "   neighbourhood_group_cleansed__Staten Island  room_type__Entire home/apt  \\\n",
       "0                                            0                           1   \n",
       "1                                            0                           1   \n",
       "2                                            0                           1   \n",
       "3                                            0                           0   \n",
       "4                                            0                           0   \n",
       "\n",
       "   room_type__Hotel room  room_type__Private room  room_type__Shared room  \n",
       "0                      0                        0                       0  \n",
       "1                      0                        0                       0  \n",
       "2                      0                        0                       0  \n",
       "3                      0                        1                       0  \n",
       "4                      0                        1                       0  \n",
       "\n",
       "[5 rows x 50 columns]"
      ]
     },
     "execution_count": 11,
     "metadata": {},
     "output_type": "execute_result"
    }
   ],
   "source": [
    "#remove outliers by using the winsorize method\n",
    "#DISCLAIMER- I know I could do this by just reassigning the winsorized column back to the old column, but I want to practice\n",
    "#dropping and renaming columns as well\n",
    "\n",
    "old_columns = list(df_new.columns)\n",
    "for column in old_columns:\n",
    "    df_new[column +'-w'] = stats.mstats.winsorize(df_new[column], limits = [0.01, 0.01])\n",
    "#check that change has occurred due to the winsorization\n",
    "print(df_new['price-w'] - df_new['price'])\n",
    "\n",
    "#drop the non-winsorized columns\n",
    "df_new = df_new.drop(labels = old_columns, axis = 1)\n",
    "\n",
    "#rename the columns with -w with their original column names\n",
    "new_columns = list(df_new.columns)\n",
    "name_mapping = {}\n",
    "for column in new_columns:\n",
    "    name_mapping[column] = column[:-2]\n",
    "df_new = df_new.rename(columns = name_mapping)\n",
    "df_new.head()"
   ]
  },
  {
   "cell_type": "code",
   "execution_count": 12,
   "metadata": {},
   "outputs": [
    {
     "data": {
      "text/plain": [
       "host_response_rate                              11843\n",
       "host_acceptance_rate                            11113\n",
       "host_is_superhost                                   0\n",
       "host_listings_count                                 0\n",
       "host_total_listings_count                           0\n",
       "host_has_profile_pic                                0\n",
       "host_identity_verified                              0\n",
       "accommodates                                        0\n",
       "bathrooms                                           0\n",
       "bedrooms                                         2918\n",
       "beds                                             1354\n",
       "price                                               0\n",
       "minimum_nights                                      0\n",
       "maximum_nights                                      0\n",
       "minimum_minimum_nights                              0\n",
       "maximum_minimum_nights                              0\n",
       "minimum_maximum_nights                              0\n",
       "maximum_maximum_nights                              0\n",
       "minimum_nights_avg_ntm                              0\n",
       "maximum_nights_avg_ntm                              0\n",
       "has_availability                                    0\n",
       "availability_30                                     0\n",
       "availability_60                                     0\n",
       "availability_90                                     0\n",
       "availability_365                                    0\n",
       "number_of_reviews                                   0\n",
       "number_of_reviews_ltm                               0\n",
       "number_of_reviews_l30d                              0\n",
       "review_scores_rating                                0\n",
       "review_scores_cleanliness                           0\n",
       "review_scores_checkin                               0\n",
       "review_scores_communication                         0\n",
       "review_scores_location                              0\n",
       "review_scores_value                                 0\n",
       "instant_bookable                                    0\n",
       "calculated_host_listings_count                      0\n",
       "calculated_host_listings_count_entire_homes         0\n",
       "calculated_host_listings_count_private_rooms        0\n",
       "calculated_host_listings_count_shared_rooms         0\n",
       "reviews_per_month                                   0\n",
       "n_host_verifications                                0\n",
       "neighbourhood_group_cleansed__Bronx                 0\n",
       "neighbourhood_group_cleansed__Brooklyn              0\n",
       "neighbourhood_group_cleansed__Manhattan             0\n",
       "neighbourhood_group_cleansed__Queens                0\n",
       "neighbourhood_group_cleansed__Staten Island         0\n",
       "room_type__Entire home/apt                          0\n",
       "room_type__Hotel room                               0\n",
       "room_type__Private room                             0\n",
       "room_type__Shared room                              0\n",
       "dtype: int64"
      ]
     },
     "execution_count": 12,
     "metadata": {},
     "output_type": "execute_result"
    }
   ],
   "source": [
    "#inspect columns with missing values\n",
    "nan_count = np.sum(df_new.isnull(), axis = 0)\n",
    "nan_count"
   ]
  },
  {
   "cell_type": "code",
   "execution_count": 14,
   "metadata": {},
   "outputs": [
    {
     "data": {
      "text/plain": [
       "beds                    0\n",
       "bedrooms                0\n",
       "host_response_rate      0\n",
       "host_acceptance_rate    0\n",
       "dtype: int64"
      ]
     },
     "execution_count": 14,
     "metadata": {},
     "output_type": "execute_result"
    }
   ],
   "source": [
    "#determine if the columns can have missing values replaced with their means\n",
    "df_new['beds']\n",
    "df_new['bedrooms']\n",
    "df_new['host_response_rate']\n",
    "df_new['host_acceptance_rate']\n",
    "missing_values = ['beds', 'bedrooms', 'host_response_rate', 'host_acceptance_rate']\n",
    "\n",
    "#keep track of which rows had NA values\n",
    "for column in missing_values:\n",
    "    df_new[column + '-na'] = df_new[column].isnull()\n",
    "\n",
    "#now replace the missing values with their means\n",
    "for column in missing_values:\n",
    "    mean = df_new[column].mean()\n",
    "    df_new[column].fillna(value = mean, inplace = True)\n",
    "\n",
    "#check results, display nan count now\n",
    "np.sum(df_new[missing_values].isnull())"
   ]
  },
  {
   "cell_type": "code",
   "execution_count": 13,
   "metadata": {},
   "outputs": [
    {
     "data": {
      "text/html": [
       "<div>\n",
       "<style scoped>\n",
       "    .dataframe tbody tr th:only-of-type {\n",
       "        vertical-align: middle;\n",
       "    }\n",
       "\n",
       "    .dataframe tbody tr th {\n",
       "        vertical-align: top;\n",
       "    }\n",
       "\n",
       "    .dataframe thead th {\n",
       "        text-align: right;\n",
       "    }\n",
       "</style>\n",
       "<table border=\"1\" class=\"dataframe\">\n",
       "  <thead>\n",
       "    <tr style=\"text-align: right;\">\n",
       "      <th></th>\n",
       "      <th>host_response_rate</th>\n",
       "      <th>host_acceptance_rate</th>\n",
       "      <th>host_is_superhost</th>\n",
       "      <th>host_listings_count</th>\n",
       "      <th>host_total_listings_count</th>\n",
       "      <th>host_has_profile_pic</th>\n",
       "      <th>host_identity_verified</th>\n",
       "      <th>accommodates</th>\n",
       "      <th>bathrooms</th>\n",
       "      <th>bedrooms</th>\n",
       "      <th>...</th>\n",
       "      <th>n_host_verifications</th>\n",
       "      <th>neighbourhood_group_cleansed__Bronx</th>\n",
       "      <th>neighbourhood_group_cleansed__Brooklyn</th>\n",
       "      <th>neighbourhood_group_cleansed__Manhattan</th>\n",
       "      <th>neighbourhood_group_cleansed__Queens</th>\n",
       "      <th>neighbourhood_group_cleansed__Staten Island</th>\n",
       "      <th>room_type__Entire home/apt</th>\n",
       "      <th>room_type__Hotel room</th>\n",
       "      <th>room_type__Private room</th>\n",
       "      <th>room_type__Shared room</th>\n",
       "    </tr>\n",
       "  </thead>\n",
       "  <tbody>\n",
       "    <tr>\n",
       "      <th>0</th>\n",
       "      <td>0.80</td>\n",
       "      <td>0.17</td>\n",
       "      <td>1.0</td>\n",
       "      <td>8.0</td>\n",
       "      <td>8.0</td>\n",
       "      <td>1.0</td>\n",
       "      <td>1.0</td>\n",
       "      <td>1</td>\n",
       "      <td>1.0</td>\n",
       "      <td>NaN</td>\n",
       "      <td>...</td>\n",
       "      <td>9</td>\n",
       "      <td>0</td>\n",
       "      <td>0</td>\n",
       "      <td>1</td>\n",
       "      <td>0</td>\n",
       "      <td>0</td>\n",
       "      <td>1</td>\n",
       "      <td>0</td>\n",
       "      <td>0</td>\n",
       "      <td>0</td>\n",
       "    </tr>\n",
       "    <tr>\n",
       "      <th>1</th>\n",
       "      <td>0.09</td>\n",
       "      <td>0.69</td>\n",
       "      <td>1.0</td>\n",
       "      <td>1.0</td>\n",
       "      <td>1.0</td>\n",
       "      <td>1.0</td>\n",
       "      <td>1.0</td>\n",
       "      <td>3</td>\n",
       "      <td>1.0</td>\n",
       "      <td>1.0</td>\n",
       "      <td>...</td>\n",
       "      <td>6</td>\n",
       "      <td>0</td>\n",
       "      <td>1</td>\n",
       "      <td>0</td>\n",
       "      <td>0</td>\n",
       "      <td>0</td>\n",
       "      <td>1</td>\n",
       "      <td>0</td>\n",
       "      <td>0</td>\n",
       "      <td>0</td>\n",
       "    </tr>\n",
       "    <tr>\n",
       "      <th>2</th>\n",
       "      <td>1.00</td>\n",
       "      <td>0.25</td>\n",
       "      <td>1.0</td>\n",
       "      <td>1.0</td>\n",
       "      <td>1.0</td>\n",
       "      <td>1.0</td>\n",
       "      <td>1.0</td>\n",
       "      <td>4</td>\n",
       "      <td>1.5</td>\n",
       "      <td>2.0</td>\n",
       "      <td>...</td>\n",
       "      <td>3</td>\n",
       "      <td>0</td>\n",
       "      <td>1</td>\n",
       "      <td>0</td>\n",
       "      <td>0</td>\n",
       "      <td>0</td>\n",
       "      <td>1</td>\n",
       "      <td>0</td>\n",
       "      <td>0</td>\n",
       "      <td>0</td>\n",
       "    </tr>\n",
       "    <tr>\n",
       "      <th>3</th>\n",
       "      <td>1.00</td>\n",
       "      <td>1.00</td>\n",
       "      <td>1.0</td>\n",
       "      <td>1.0</td>\n",
       "      <td>1.0</td>\n",
       "      <td>1.0</td>\n",
       "      <td>1.0</td>\n",
       "      <td>2</td>\n",
       "      <td>1.0</td>\n",
       "      <td>1.0</td>\n",
       "      <td>...</td>\n",
       "      <td>4</td>\n",
       "      <td>0</td>\n",
       "      <td>0</td>\n",
       "      <td>1</td>\n",
       "      <td>0</td>\n",
       "      <td>0</td>\n",
       "      <td>0</td>\n",
       "      <td>0</td>\n",
       "      <td>1</td>\n",
       "      <td>0</td>\n",
       "    </tr>\n",
       "    <tr>\n",
       "      <th>4</th>\n",
       "      <td>NaN</td>\n",
       "      <td>NaN</td>\n",
       "      <td>1.0</td>\n",
       "      <td>1.0</td>\n",
       "      <td>1.0</td>\n",
       "      <td>1.0</td>\n",
       "      <td>1.0</td>\n",
       "      <td>1</td>\n",
       "      <td>1.0</td>\n",
       "      <td>1.0</td>\n",
       "      <td>...</td>\n",
       "      <td>7</td>\n",
       "      <td>0</td>\n",
       "      <td>0</td>\n",
       "      <td>1</td>\n",
       "      <td>0</td>\n",
       "      <td>0</td>\n",
       "      <td>0</td>\n",
       "      <td>0</td>\n",
       "      <td>1</td>\n",
       "      <td>0</td>\n",
       "    </tr>\n",
       "  </tbody>\n",
       "</table>\n",
       "<p>5 rows × 50 columns</p>\n",
       "</div>"
      ],
      "text/plain": [
       "   host_response_rate  host_acceptance_rate  host_is_superhost  \\\n",
       "0                0.80                  0.17                1.0   \n",
       "1                0.09                  0.69                1.0   \n",
       "2                1.00                  0.25                1.0   \n",
       "3                1.00                  1.00                1.0   \n",
       "4                 NaN                   NaN                1.0   \n",
       "\n",
       "   host_listings_count  host_total_listings_count  host_has_profile_pic  \\\n",
       "0                  8.0                        8.0                   1.0   \n",
       "1                  1.0                        1.0                   1.0   \n",
       "2                  1.0                        1.0                   1.0   \n",
       "3                  1.0                        1.0                   1.0   \n",
       "4                  1.0                        1.0                   1.0   \n",
       "\n",
       "   host_identity_verified  accommodates  bathrooms  bedrooms  ...  \\\n",
       "0                     1.0             1        1.0       NaN  ...   \n",
       "1                     1.0             3        1.0       1.0  ...   \n",
       "2                     1.0             4        1.5       2.0  ...   \n",
       "3                     1.0             2        1.0       1.0  ...   \n",
       "4                     1.0             1        1.0       1.0  ...   \n",
       "\n",
       "   n_host_verifications  neighbourhood_group_cleansed__Bronx  \\\n",
       "0                     9                                    0   \n",
       "1                     6                                    0   \n",
       "2                     3                                    0   \n",
       "3                     4                                    0   \n",
       "4                     7                                    0   \n",
       "\n",
       "   neighbourhood_group_cleansed__Brooklyn  \\\n",
       "0                                       0   \n",
       "1                                       1   \n",
       "2                                       1   \n",
       "3                                       0   \n",
       "4                                       0   \n",
       "\n",
       "   neighbourhood_group_cleansed__Manhattan  \\\n",
       "0                                        1   \n",
       "1                                        0   \n",
       "2                                        0   \n",
       "3                                        1   \n",
       "4                                        1   \n",
       "\n",
       "   neighbourhood_group_cleansed__Queens  \\\n",
       "0                                     0   \n",
       "1                                     0   \n",
       "2                                     0   \n",
       "3                                     0   \n",
       "4                                     0   \n",
       "\n",
       "   neighbourhood_group_cleansed__Staten Island  room_type__Entire home/apt  \\\n",
       "0                                            0                           1   \n",
       "1                                            0                           1   \n",
       "2                                            0                           1   \n",
       "3                                            0                           0   \n",
       "4                                            0                           0   \n",
       "\n",
       "   room_type__Hotel room  room_type__Private room  room_type__Shared room  \n",
       "0                      0                        0                       0  \n",
       "1                      0                        0                       0  \n",
       "2                      0                        0                       0  \n",
       "3                      0                        1                       0  \n",
       "4                      0                        1                       0  \n",
       "\n",
       "[5 rows x 50 columns]"
      ]
     },
     "execution_count": 13,
     "metadata": {},
     "output_type": "execute_result"
    }
   ],
   "source": [
    "#convert boolean features to 1 for True and 0 for False\n",
    "df_new.replace({True: 1.0, False: 0.0}, inplace = True)\n",
    "df_new.head()"
   ]
  },
  {
   "cell_type": "code",
   "execution_count": 15,
   "metadata": {},
   "outputs": [
    {
     "data": {
      "text/plain": [
       "accommodates                                    0.516222\n",
       "bedrooms                                        0.462181\n",
       "beds                                            0.405765\n",
       "room_type__Private room                         0.364792\n",
       "room_type__Entire home/apt                      0.356821\n",
       "bathrooms                                       0.310736\n",
       "neighbourhood_group_cleansed__Manhattan         0.241940\n",
       "availability_60                                 0.152464\n",
       "minimum_minimum_nights                          0.151606\n",
       "availability_90                                 0.148327\n",
       "availability_30                                 0.145384\n",
       "minimum_nights                                  0.143138\n",
       "neighbourhood_group_cleansed__Queens            0.135177\n",
       "minimum_nights_avg_ntm                          0.125479\n",
       "availability_365                                0.124195\n",
       "maximum_minimum_nights                          0.118807\n",
       "host_response_rate-na                           0.118400\n",
       "neighbourhood_group_cleansed__Brooklyn          0.113415\n",
       "review_scores_location                          0.112811\n",
       "host_acceptance_rate-na                         0.101773\n",
       "review_scores_cleanliness                       0.088128\n",
       "neighbourhood_group_cleansed__Bronx             0.073648\n",
       "has_availability                                0.063459\n",
       "calculated_host_listings_count_shared_rooms     0.061834\n",
       "number_of_reviews_ltm                           0.056008\n",
       "room_type__Shared room                          0.050696\n",
       "calculated_host_listings_count_entire_homes     0.048869\n",
       "review_scores_rating                            0.048781\n",
       "number_of_reviews_l30d                          0.045304\n",
       "instant_bookable                                0.040906\n",
       "neighbourhood_group_cleansed__Staten Island     0.037704\n",
       "reviews_per_month                               0.037078\n",
       "calculated_host_listings_count_private_rooms    0.035195\n",
       "number_of_reviews                               0.034895\n",
       "minimum_maximum_nights                          0.034839\n",
       "host_acceptance_rate                            0.032987\n",
       "beds-na                                         0.029552\n",
       "bedrooms-na                                     0.026953\n",
       "host_total_listings_count                       0.026750\n",
       "host_listings_count                             0.026750\n",
       "n_host_verifications                            0.025759\n",
       "maximum_nights_avg_ntm                          0.022272\n",
       "maximum_maximum_nights                          0.015408\n",
       "calculated_host_listings_count                  0.014078\n",
       "host_response_rate                              0.006491\n",
       "review_scores_value                             0.006255\n",
       "review_scores_checkin                           0.004141\n",
       "maximum_nights                                  0.002073\n",
       "review_scores_communication                     0.000664\n",
       "host_is_superhost                                    NaN\n",
       "host_has_profile_pic                                 NaN\n",
       "host_identity_verified                               NaN\n",
       "room_type__Hotel room                                NaN\n",
       "Name: price, dtype: float64"
      ]
     },
     "execution_count": 15,
     "metadata": {},
     "output_type": "execute_result"
    }
   ],
   "source": [
    "#obtain the correlation matrix, take the absolute value, and display them in descending order\n",
    "exclude = ['price']\n",
    "corrs = df_new.corr()['price'].drop(exclude, axis = 0)\n",
    "corrs_abs = abs(corrs)\n",
    "corrs_sorted = corrs_abs.sort_values(ascending = False)\n",
    "corrs_sorted"
   ]
  },
  {
   "cell_type": "code",
   "execution_count": 16,
   "metadata": {},
   "outputs": [
    {
     "name": "stdout",
     "output_type": "stream",
     "text": [
      "original shape: (28022, 54)\n",
      "new shape-should be 43: (28022, 43)\n"
     ]
    },
    {
     "data": {
      "text/html": [
       "<div>\n",
       "<style scoped>\n",
       "    .dataframe tbody tr th:only-of-type {\n",
       "        vertical-align: middle;\n",
       "    }\n",
       "\n",
       "    .dataframe tbody tr th {\n",
       "        vertical-align: top;\n",
       "    }\n",
       "\n",
       "    .dataframe thead th {\n",
       "        text-align: right;\n",
       "    }\n",
       "</style>\n",
       "<table border=\"1\" class=\"dataframe\">\n",
       "  <thead>\n",
       "    <tr style=\"text-align: right;\">\n",
       "      <th></th>\n",
       "      <th>host_acceptance_rate</th>\n",
       "      <th>host_listings_count</th>\n",
       "      <th>host_total_listings_count</th>\n",
       "      <th>accommodates</th>\n",
       "      <th>bathrooms</th>\n",
       "      <th>bedrooms</th>\n",
       "      <th>beds</th>\n",
       "      <th>price</th>\n",
       "      <th>minimum_nights</th>\n",
       "      <th>minimum_minimum_nights</th>\n",
       "      <th>...</th>\n",
       "      <th>neighbourhood_group_cleansed__Manhattan</th>\n",
       "      <th>neighbourhood_group_cleansed__Queens</th>\n",
       "      <th>neighbourhood_group_cleansed__Staten Island</th>\n",
       "      <th>room_type__Entire home/apt</th>\n",
       "      <th>room_type__Private room</th>\n",
       "      <th>room_type__Shared room</th>\n",
       "      <th>beds-na</th>\n",
       "      <th>bedrooms-na</th>\n",
       "      <th>host_response_rate-na</th>\n",
       "      <th>host_acceptance_rate-na</th>\n",
       "    </tr>\n",
       "  </thead>\n",
       "  <tbody>\n",
       "    <tr>\n",
       "      <th>0</th>\n",
       "      <td>0.170000</td>\n",
       "      <td>8.0</td>\n",
       "      <td>8.0</td>\n",
       "      <td>1</td>\n",
       "      <td>1.0</td>\n",
       "      <td>1.329708</td>\n",
       "      <td>1.0</td>\n",
       "      <td>150.0</td>\n",
       "      <td>30</td>\n",
       "      <td>30.0</td>\n",
       "      <td>...</td>\n",
       "      <td>1</td>\n",
       "      <td>0</td>\n",
       "      <td>0</td>\n",
       "      <td>1</td>\n",
       "      <td>0</td>\n",
       "      <td>0</td>\n",
       "      <td>False</td>\n",
       "      <td>True</td>\n",
       "      <td>False</td>\n",
       "      <td>False</td>\n",
       "    </tr>\n",
       "    <tr>\n",
       "      <th>1</th>\n",
       "      <td>0.690000</td>\n",
       "      <td>1.0</td>\n",
       "      <td>1.0</td>\n",
       "      <td>3</td>\n",
       "      <td>1.0</td>\n",
       "      <td>1.000000</td>\n",
       "      <td>3.0</td>\n",
       "      <td>75.0</td>\n",
       "      <td>1</td>\n",
       "      <td>1.0</td>\n",
       "      <td>...</td>\n",
       "      <td>0</td>\n",
       "      <td>0</td>\n",
       "      <td>0</td>\n",
       "      <td>1</td>\n",
       "      <td>0</td>\n",
       "      <td>0</td>\n",
       "      <td>False</td>\n",
       "      <td>False</td>\n",
       "      <td>False</td>\n",
       "      <td>False</td>\n",
       "    </tr>\n",
       "    <tr>\n",
       "      <th>2</th>\n",
       "      <td>0.250000</td>\n",
       "      <td>1.0</td>\n",
       "      <td>1.0</td>\n",
       "      <td>4</td>\n",
       "      <td>1.5</td>\n",
       "      <td>2.000000</td>\n",
       "      <td>2.0</td>\n",
       "      <td>275.0</td>\n",
       "      <td>5</td>\n",
       "      <td>5.0</td>\n",
       "      <td>...</td>\n",
       "      <td>0</td>\n",
       "      <td>0</td>\n",
       "      <td>0</td>\n",
       "      <td>1</td>\n",
       "      <td>0</td>\n",
       "      <td>0</td>\n",
       "      <td>False</td>\n",
       "      <td>False</td>\n",
       "      <td>False</td>\n",
       "      <td>False</td>\n",
       "    </tr>\n",
       "    <tr>\n",
       "      <th>3</th>\n",
       "      <td>1.000000</td>\n",
       "      <td>1.0</td>\n",
       "      <td>1.0</td>\n",
       "      <td>2</td>\n",
       "      <td>1.0</td>\n",
       "      <td>1.000000</td>\n",
       "      <td>1.0</td>\n",
       "      <td>68.0</td>\n",
       "      <td>2</td>\n",
       "      <td>2.0</td>\n",
       "      <td>...</td>\n",
       "      <td>1</td>\n",
       "      <td>0</td>\n",
       "      <td>0</td>\n",
       "      <td>0</td>\n",
       "      <td>1</td>\n",
       "      <td>0</td>\n",
       "      <td>False</td>\n",
       "      <td>False</td>\n",
       "      <td>False</td>\n",
       "      <td>False</td>\n",
       "    </tr>\n",
       "    <tr>\n",
       "      <th>4</th>\n",
       "      <td>0.791953</td>\n",
       "      <td>1.0</td>\n",
       "      <td>1.0</td>\n",
       "      <td>1</td>\n",
       "      <td>1.0</td>\n",
       "      <td>1.000000</td>\n",
       "      <td>1.0</td>\n",
       "      <td>75.0</td>\n",
       "      <td>2</td>\n",
       "      <td>2.0</td>\n",
       "      <td>...</td>\n",
       "      <td>1</td>\n",
       "      <td>0</td>\n",
       "      <td>0</td>\n",
       "      <td>0</td>\n",
       "      <td>1</td>\n",
       "      <td>0</td>\n",
       "      <td>False</td>\n",
       "      <td>False</td>\n",
       "      <td>True</td>\n",
       "      <td>True</td>\n",
       "    </tr>\n",
       "  </tbody>\n",
       "</table>\n",
       "<p>5 rows × 43 columns</p>\n",
       "</div>"
      ],
      "text/plain": [
       "   host_acceptance_rate  host_listings_count  host_total_listings_count  \\\n",
       "0              0.170000                  8.0                        8.0   \n",
       "1              0.690000                  1.0                        1.0   \n",
       "2              0.250000                  1.0                        1.0   \n",
       "3              1.000000                  1.0                        1.0   \n",
       "4              0.791953                  1.0                        1.0   \n",
       "\n",
       "   accommodates  bathrooms  bedrooms  beds  price  minimum_nights  \\\n",
       "0             1        1.0  1.329708   1.0  150.0              30   \n",
       "1             3        1.0  1.000000   3.0   75.0               1   \n",
       "2             4        1.5  2.000000   2.0  275.0               5   \n",
       "3             2        1.0  1.000000   1.0   68.0               2   \n",
       "4             1        1.0  1.000000   1.0   75.0               2   \n",
       "\n",
       "   minimum_minimum_nights  ...  neighbourhood_group_cleansed__Manhattan  \\\n",
       "0                    30.0  ...                                        1   \n",
       "1                     1.0  ...                                        0   \n",
       "2                     5.0  ...                                        0   \n",
       "3                     2.0  ...                                        1   \n",
       "4                     2.0  ...                                        1   \n",
       "\n",
       "   neighbourhood_group_cleansed__Queens  \\\n",
       "0                                     0   \n",
       "1                                     0   \n",
       "2                                     0   \n",
       "3                                     0   \n",
       "4                                     0   \n",
       "\n",
       "   neighbourhood_group_cleansed__Staten Island  room_type__Entire home/apt  \\\n",
       "0                                            0                           1   \n",
       "1                                            0                           1   \n",
       "2                                            0                           1   \n",
       "3                                            0                           0   \n",
       "4                                            0                           0   \n",
       "\n",
       "   room_type__Private room  room_type__Shared room  beds-na  bedrooms-na  \\\n",
       "0                        0                       0    False         True   \n",
       "1                        0                       0    False        False   \n",
       "2                        0                       0    False        False   \n",
       "3                        1                       0    False        False   \n",
       "4                        1                       0    False        False   \n",
       "\n",
       "   host_response_rate-na  host_acceptance_rate-na  \n",
       "0                  False                    False  \n",
       "1                  False                    False  \n",
       "2                  False                    False  \n",
       "3                  False                    False  \n",
       "4                   True                     True  \n",
       "\n",
       "[5 rows x 43 columns]"
      ]
     },
     "execution_count": 16,
     "metadata": {},
     "output_type": "execute_result"
    }
   ],
   "source": [
    "#remove features that have a low correlation with the label or a null correlation\n",
    "#for now, remove any features that have a less than 2% correlation with the price column\n",
    "print('original shape:', df_new.shape)\n",
    "to_remove = list(corrs_sorted[-11:].index)\n",
    "df_1 = df_new.drop(labels = to_remove, axis = 1)\n",
    "print('new shape-should be 43:', df_1.shape)\n",
    "df_1.head()"
   ]
  },
  {
   "cell_type": "code",
   "execution_count": 17,
   "metadata": {},
   "outputs": [
    {
     "name": "stdout",
     "output_type": "stream",
     "text": [
      "null values: 0\n"
     ]
    }
   ],
   "source": [
    "# YOUR CODE HERE\n",
    "#test if correct data frame is being used\n",
    "print('null values:', np.sum(df_1['beds'].isnull()))\n",
    "# create the label and the feature columns \n",
    "y = df_1['price']\n",
    "X = df_1.drop(columns = 'price', axis = 1)"
   ]
  },
  {
   "cell_type": "markdown",
   "metadata": {},
   "source": [
    "## Linear Regression"
   ]
  },
  {
   "cell_type": "code",
   "execution_count": 18,
   "metadata": {},
   "outputs": [],
   "source": [
    "#create the initial data split\n",
    "X_train, X_test, y_train, y_test = train_test_split(X, y, random_state = 42, test_size = 0.33)\n",
    "\n",
    "#create, fit, and train the linear model\n",
    "model_lr = LinearRegression()\n",
    "model_lr.fit(X_train, y_train)\n",
    "predictions = model_lr.predict(X_test)"
   ]
  },
  {
   "cell_type": "code",
   "execution_count": 19,
   "metadata": {},
   "outputs": [
    {
     "name": "stdout",
     "output_type": "stream",
     "text": [
      "RMSE: 97.73996253019271\n",
      "R2 score: 0.45801042015885607\n",
      "lowest price: 30.0\n",
      "highest price: 899.0\n"
     ]
    }
   ],
   "source": [
    "#analyze performance of linear model\n",
    "#mean squared error\n",
    "print('RMSE:', np.sqrt(mean_squared_error(y_test, predictions)))\n",
    "#coefficient of determination\n",
    "print('R2 score:', r2_score(y_test, predictions))\n",
    "#determine the range of the price column\n",
    "print('lowest price:' ,min(df_1['price']))\n",
    "print('highest price:', max(df_1['price']))"
   ]
  },
  {
   "cell_type": "code",
   "execution_count": 20,
   "metadata": {},
   "outputs": [
    {
     "name": "stdout",
     "output_type": "stream",
     "text": [
      "RMSE: 1.4635286309885746e+16\n",
      "R2 score: -1.2152035973091025e+28\n"
     ]
    }
   ],
   "source": [
    "#instead train a model using the SGD regressor to see how performance compares\n",
    "model_sgdr = SGDRegressor(max_iter=1000, tol=1e-3, learning_rate='constant')\n",
    "model_sgdr.fit(X_train, y_train)\n",
    "predictions_sgdr = model_sgdr.predict(X_test)\n",
    "print('RMSE:', np.sqrt(mean_squared_error(y_test, predictions_sgdr)))\n",
    "#coefficient of determination\n",
    "print('R2 score:', r2_score(y_test, predictions_sgdr))\n"
   ]
  },
  {
   "cell_type": "markdown",
   "metadata": {},
   "source": [
    "After training a linear regression model using stochastic gradient descent and without, I have determined that the linear regression model trained without SGD has better performance. This is because the range of the price label is from 30 to 899, a difference of 869.\n",
    "Therefore, the fact that my model differs on average by 97 units is okay, as that is about 10% of the total range of the column. However, the model trained using the SGD regressor has an enormous RMSE that is not even on the same magnitude as the price column. I am not entirely sure why this is, but I think that decision trees may produce better results, so I will now try training decision trees and will compare results. If I deem that SGD could be given another shot, I will alter the hyperparameters and try again."
   ]
  },
  {
   "cell_type": "markdown",
   "metadata": {},
   "source": [
    "## Decision Trees"
   ]
  },
  {
   "cell_type": "code",
   "execution_count": 21,
   "metadata": {},
   "outputs": [
    {
     "data": {
      "text/plain": [
       "{'max_depth': [4, 8, 16], 'min_samples_leaf': [25, 50, 100]}"
      ]
     },
     "execution_count": 21,
     "metadata": {},
     "output_type": "execute_result"
    }
   ],
   "source": [
    "#create a hyperparameter grid to run grid search with\n",
    "\n",
    "#create range of hyperparameter values from max_depth, using the values we used in previous assignments\n",
    "depths = [2**n for n in range(2, 5)]\n",
    "\n",
    "#create range of hyperparameter values for min_samples_leaf, using the values we used in previous assignments\n",
    "leaves = [25*2**n for n in range(0,3)]\n",
    "param_grid = {'max_depth': depths, 'min_samples_leaf': leaves}\n",
    "param_grid\n"
   ]
  },
  {
   "cell_type": "code",
   "execution_count": 22,
   "metadata": {},
   "outputs": [
    {
     "name": "stdout",
     "output_type": "stream",
     "text": [
      "Running grid search...\n",
      "Done\n"
     ]
    }
   ],
   "source": [
    "#perform the grid search, testing various combinations of hyperparameters \n",
    "print('Running grid search...')\n",
    "model_dt = DecisionTreeRegressor()\n",
    "\n",
    "#create a grid search object using 5 fold cross validation\n",
    "grid = GridSearchCV(model_dt, param_grid, cv = 5, scoring = 'neg_mean_squared_error')\n",
    "grid_search = grid.fit(X_train, y_train)\n",
    "print('Done')"
   ]
  },
  {
   "cell_type": "code",
   "execution_count": 23,
   "metadata": {},
   "outputs": [
    {
     "name": "stdout",
     "output_type": "stream",
     "text": [
      "Optimal hyperparameters: {'max_depth': 16, 'min_samples_leaf': 25}\n",
      "MSE: 98.16540116684816\n"
     ]
    }
   ],
   "source": [
    "#analyze which of the hyperparameters are the best to identify a range to further test\n",
    "print('Optimal hyperparameters:', grid_search.best_params_)\n",
    "\n",
    "# calculate the MSE from the best hyperparameter configuration using aboslute value and squareroot so it is on the same scale as linear regression\n",
    "print('MSE:', np.sqrt(abs(grid_search.best_score_)))"
   ]
  },
  {
   "cell_type": "code",
   "execution_count": 24,
   "metadata": {},
   "outputs": [
    {
     "name": "stdout",
     "output_type": "stream",
     "text": [
      "Starting\n",
      "max_depth: 9 mse: 95.00706326547332\n",
      "max_depth: 10 mse: 95.00624715393553\n",
      "max_depth: 11 mse: 95.12119451168392\n",
      "max_depth: 12 mse: 95.27814363827228\n",
      "max_depth: 13 mse: 95.2088983119991\n",
      "max_depth: 14 mse: 95.174451426634\n",
      "max_depth: 15 mse: 95.2289616478288\n",
      "max_depth: 16 mse: 95.24171913052642\n",
      "max_depth: 17 mse: 95.2645771225801\n",
      "max_depth: 18 mse: 95.21875022913723\n",
      "max_depth: 19 mse: 95.2760510934879\n",
      "max_depth: 20 mse: 95.25915041844465\n",
      "Done\n"
     ]
    }
   ],
   "source": [
    "#now try more values of max_depth holding min_samples_leaf at 25 and graph results to attempt to improve accuracy\n",
    "print('Starting')\n",
    "depths_2 = [9, 10, 11, 12, 13, 14, 15, 16, 17, 18, 19, 20]\n",
    "mses_depth = []\n",
    "for value in depths_2:\n",
    "    model_dt = DecisionTreeRegressor(max_depth = value, min_samples_leaf = 25)\n",
    "    model_dt.fit(X_train, y_train)\n",
    "    predictions = model_dt.predict(X_test)\n",
    "    mse = np.sqrt(mean_squared_error(y_test, predictions))\n",
    "    mses_depth.append(mse)\n",
    "    print('max_depth:', value, 'mse:', mse)\n",
    "print('Done')\n"
   ]
  },
  {
   "cell_type": "code",
   "execution_count": 25,
   "metadata": {},
   "outputs": [
    {
     "name": "stdout",
     "output_type": "stream",
     "text": [
      "95.00624715393553\n"
     ]
    }
   ],
   "source": [
    "#determine current lowest value of MSE\n",
    "print(min(mses_depth))"
   ]
  },
  {
   "cell_type": "code",
   "execution_count": 26,
   "metadata": {},
   "outputs": [
    {
     "data": {
      "image/png": "[encoded data removed]",
      "text/plain": [
       "<Figure size 640x480 with 1 Axes>"
      ]
     },
     "metadata": {},
     "output_type": "display_data"
    }
   ],
   "source": [
    "#graph the results of the above tests\n",
    "fig = plt.figure()\n",
    "ax = fig.add_subplot(111)\n",
    "plot = sns.lineplot(x = depths_2, y = mses_depth, marker = 'o', label = 'Training Set')\n",
    "plt.title('MSE of the DT Predictions, for max_depth in [9, 20]')\n",
    "ax.set_xlabel('max_depth')\n",
    "ax.set_ylabel('Mean Squared Error')\n",
    "plt.show()"
   ]
  },
  {
   "cell_type": "code",
   "execution_count": 27,
   "metadata": {},
   "outputs": [
    {
     "name": "stdout",
     "output_type": "stream",
     "text": [
      "Starting\n",
      "max_depth: 10 mse: 96.4656319922692\n",
      "max_depth: 15 mse: 95.85276448508215\n",
      "max_depth: 20 mse: 94.67539947767972\n",
      "max_depth: 25 mse: 94.9728817441989\n",
      "max_depth: 30 mse: 95.63407100228754\n",
      "max_depth: 35 mse: 95.64415238018356\n",
      "max_depth: 40 mse: 95.59080756036987\n",
      "max_depth: 45 mse: 95.18101824309443\n",
      "max_depth: 50 mse: 94.9959886258011\n",
      "Done\n"
     ]
    }
   ],
   "source": [
    "#above results show that 10 produces lowest mse, but it is still lower than 16\n",
    "#so now try more values for min_samples_leaf and graph the results\n",
    "print('Starting')\n",
    "leaves_2 = [10, 15, 20, 25, 30, 35, 40, 45, 50]\n",
    "mses_leaf = []\n",
    "for value in leaves_2:\n",
    "    model_dt = DecisionTreeRegressor(max_depth = 10, min_samples_leaf = value)\n",
    "    model_dt.fit(X_train, y_train)\n",
    "    predictions = model_dt.predict(X_test)\n",
    "    mse = np.sqrt(mean_squared_error(y_test, predictions))\n",
    "    mses_leaf.append(mse)\n",
    "    print('max_depth:', value, 'mse:', mse)\n",
    "print('Done')"
   ]
  },
  {
   "cell_type": "code",
   "execution_count": 28,
   "metadata": {},
   "outputs": [
    {
     "name": "stdout",
     "output_type": "stream",
     "text": [
      "MSE min for DTS: 94.67539947767972\n"
     ]
    }
   ],
   "source": [
    "#determine the current lowest value for mse\n",
    "print('MSE min for DTS:', min(mses_leaf))"
   ]
  },
  {
   "cell_type": "code",
   "execution_count": 29,
   "metadata": {},
   "outputs": [
    {
     "data": {
      "image/png": "[encoded data removed]",
      "text/plain": [
       "<Figure size 640x480 with 1 Axes>"
      ]
     },
     "metadata": {},
     "output_type": "display_data"
    }
   ],
   "source": [
    "#graph the results\n",
    "fig = plt.figure()\n",
    "ax = fig.add_subplot(111)\n",
    "plot = sns.lineplot(x = leaves_2, y = mses_leaf, marker = 'o', label = 'Training Set')\n",
    "plt.title('MSE of the DT Predictions, for min_samples_leaf in [10, 15, 20, 25, 30, 35, 40, 45, 50]')\n",
    "ax.set_xlabel('max_depth')\n",
    "ax.set_ylabel('Mean Squared Error')\n",
    "plt.show()"
   ]
  },
  {
   "cell_type": "markdown",
   "metadata": {},
   "source": [
    "After all of the above testing, I have determined that the decision tree with the lowest mse has a max_depth of 10 and a min_samples_leaf of 20. Its MSE is 94.64920531923823.  The MSE obtained from linear regression was 97.73996253019271. As these values differ by only a bit, I will now perform feature selection on both of the models to determine which one results in the lowest MSE."
   ]
  },
  {
   "cell_type": "markdown",
   "metadata": {},
   "source": [
    "## Feature Selection on Linear Regression"
   ]
  },
  {
   "cell_type": "code",
   "execution_count": 30,
   "metadata": {},
   "outputs": [],
   "source": [
    "#import tools needed for feature selection\n",
    "from sklearn.feature_selection import SelectKBest\n",
    "from sklearn.feature_selection import f_classif"
   ]
  },
  {
   "cell_type": "code",
   "execution_count": 31,
   "metadata": {},
   "outputs": [],
   "source": [
    "#create a function to test various feature values\n",
    "def test_feature_number(feature_number):\n",
    "    #initiate the selector and filter for feature selection\n",
    "    selector = SelectKBest(f_classif, k = feature_number)\n",
    "    selector.fit(X, y)\n",
    "    filter = selector.get_support()\n",
    "    top_x_features = X.columns[filter]\n",
    "    #create new subsamples of data to train and test on\n",
    "    new_x_train_lr = X_train[top_x_features]\n",
    "    new_x_test_lr = X_test[top_x_features]\n",
    "    #create new model\n",
    "    model = LinearRegression()\n",
    "    model.fit(new_x_train_lr, y_train)\n",
    "    predictions = model.predict(new_x_test_lr)\n",
    "    #compute and return the mse\n",
    "    mse = np.sqrt(mean_squared_error(y_test, predictions))\n",
    "    return mse"
   ]
  },
  {
   "cell_type": "code",
   "execution_count": 32,
   "metadata": {},
   "outputs": [
    {
     "name": "stdout",
     "output_type": "stream",
     "text": [
      "number of features: 5 MSE: 111.74758407993097\n",
      "number of features: 15 MSE: 102.98998848744543\n",
      "number of features: 25 MSE: 101.12990971855797\n",
      "number of features: 35 MSE: 98.0921453994408\n",
      "number of features: 42 MSE: 97.73996253019271\n"
     ]
    }
   ],
   "source": [
    "#initially test a wide range of features from 5 to 42 to identify a range to further test\n",
    "feature_range = [5, 15, 25, 35, 42]\n",
    "mses = []\n",
    "for value in feature_range:\n",
    "    mse = test_feature_number(value)\n",
    "    mses.append(mse)\n",
    "    print('number of features:', value, 'MSE:', mse)"
   ]
  },
  {
   "cell_type": "code",
   "execution_count": 33,
   "metadata": {},
   "outputs": [
    {
     "name": "stdout",
     "output_type": "stream",
     "text": [
      "number of features: 35 MSE: 98.0921453994408\n",
      "number of features: 36 MSE: 98.08543812434813\n",
      "number of features: 37 MSE: 98.07540824157618\n",
      "number of features: 38 MSE: 97.79549125363617\n",
      "number of features: 39 MSE: 97.77905988598509\n",
      "number of features: 40 MSE: 97.76557634305696\n",
      "number of features: 41 MSE: 97.73996253019271\n",
      "number of features: 42 MSE: 97.73996253019271\n"
     ]
    }
   ],
   "source": [
    "#test values in-between 35 and 42 to see if improvement occurs- testing on whole oringinal\n",
    "new_feature_range = [35, 36, 37, 38, 39, 40, 41, 42]\n",
    "for value in new_feature_range:\n",
    "    print('number of features:', value, 'MSE:', test_feature_number(value))"
   ]
  },
  {
   "cell_type": "markdown",
   "metadata": {},
   "source": [
    "Doing this, I am observing that adding more features steadily decreases the mse. During my initial data preparation, I dropped the features that had a less than 2% correlation. I will now perform feature selection with those features included.\n"
   ]
  },
  {
   "cell_type": "markdown",
   "metadata": {},
   "source": [
    "## Updating Data Frame to Include All Initial Features"
   ]
  },
  {
   "cell_type": "code",
   "execution_count": 34,
   "metadata": {},
   "outputs": [
    {
     "name": "stdout",
     "output_type": "stream",
     "text": [
      "df_new dimensions: (28022, 54)\n",
      "updated dimensions: (28022, 50)\n"
     ]
    }
   ],
   "source": [
    "#create new x and ys and new training and test sets from df_new with full amount of features\n",
    "print('df_new dimensions:', df_new.shape)\n",
    "#drop the columns that have no variance, determined in a much earlier cell to be NaN\n",
    "#host_has_profile_pic                                 NaN\n",
    "#host_identity_verified                               NaN\n",
    "#room_type__Hotel room    NaN\n",
    "to_drop = ['host_is_superhost', 'host_has_profile_pic', 'host_identity_verified', 'room_type__Hotel room']\n",
    "df_new = df_new.drop(labels = to_drop, axis = 1)\n",
    "y_whole = df_new['price']\n",
    "X_whole = df_new.drop(labels = 'price', axis = 1)\n",
    "\n",
    "X_train_whole, X_test_whole, y_train_whole, y_test_whole = train_test_split(X_whole, y_whole, test_size = 0.33, random_state = 42)\n",
    "print('updated dimensions:', df_new.shape)"
   ]
  },
  {
   "cell_type": "code",
   "execution_count": 35,
   "metadata": {},
   "outputs": [
    {
     "name": "stdout",
     "output_type": "stream",
     "text": [
      "X whole shape: (28022, 49)\n"
     ]
    }
   ],
   "source": [
    "#edit test_feature_number function so that it uses this new data set\n",
    "def test_feature_number_whole(feature_number):\n",
    "    #initiate the selector and filter for feature selection\n",
    "    selector = SelectKBest(f_classif, k = feature_number)\n",
    "    selector.fit(X_whole, y_whole)\n",
    "    filter = selector.get_support()\n",
    "    top_x_features = X_whole.columns[filter]\n",
    "    #create new subsamples of data to train and test on\n",
    "    new_x_train = X_train_whole[top_x_features]\n",
    "    new_x_test = X_test_whole[top_x_features]\n",
    "    #create new model\n",
    "    model = LinearRegression()\n",
    "    model.fit(new_x_train, y_train_whole)\n",
    "    predictions = model.predict(new_x_test)\n",
    "    #compute and return the mse\n",
    "    mse = np.sqrt(mean_squared_error(y_test_whole, predictions))\n",
    "    return mse\n",
    "print('X whole shape:', X_whole.shape)"
   ]
  },
  {
   "cell_type": "code",
   "execution_count": 36,
   "metadata": {},
   "outputs": [
    {
     "name": "stdout",
     "output_type": "stream",
     "text": [
      "number of features: 42 MSE: 97.45763282371156\n",
      "number of features: 43 MSE: 97.37342467126216\n",
      "number of features: 44 MSE: 97.2423321221467\n",
      "number of features: 45 MSE: 97.2778401354569\n",
      "number of features: 46 MSE: 97.26249450037066\n",
      "number of features: 47 MSE: 97.24672506052225\n",
      "number of features: 48 MSE: 97.22410861401804\n"
     ]
    }
   ],
   "source": [
    "#test a range of feature values from 42 to 48\n",
    "feature_range_whole = [42, 43, 44, 45, 46, 47, 48]\n",
    "for value in feature_range_whole:\n",
    "    print('number of features:', value, 'MSE:', test_feature_number_whole(value))"
   ]
  },
  {
   "cell_type": "markdown",
   "metadata": {},
   "source": [
    "After adding these features back in, I have determined that the added features do slightly improve model performance. To prove, the lowest mse obtaind without these features was 97.73996253019271, and the lowest obtained with it was 97.2423321221467."
   ]
  },
  {
   "cell_type": "markdown",
   "metadata": {},
   "source": [
    "## Feature Selection on Decision Trees"
   ]
  },
  {
   "cell_type": "code",
   "execution_count": 37,
   "metadata": {},
   "outputs": [],
   "source": [
    "#now try feature selection on decision trees- create a function to do so that creates a decision tree model\n",
    "def test_feature_number_dt(feature_number):\n",
    "    #initiate the selector and filter for feature selection\n",
    "    selector = SelectKBest(f_classif, k = feature_number)\n",
    "    selector.fit(X, y)\n",
    "    filter = selector.get_support()\n",
    "    top_x_features = X.columns[filter]\n",
    "    #create new subsamples of data to train and test on\n",
    "    new_x_train_dt = X_train[top_x_features]\n",
    "    new_x_test_dt = X_test[top_x_features]\n",
    "    #create new model\n",
    "    model = DecisionTreeRegressor(max_depth = 10, min_samples_leaf = 20)\n",
    "    model.fit(new_x_train_dt, y_train)\n",
    "    predictions = model.predict(new_x_test_dt)\n",
    "    #compute and return the mse\n",
    "    mse = np.sqrt(mean_squared_error(y_test, predictions))\n",
    "    return mse"
   ]
  },
  {
   "cell_type": "code",
   "execution_count": 38,
   "metadata": {},
   "outputs": [
    {
     "name": "stdout",
     "output_type": "stream",
     "text": [
      "number of features: 5 MSE: 106.75104444902824\n",
      "number of features: 15 MSE: 95.78534504846832\n",
      "number of features: 25 MSE: 95.22202538630879\n",
      "number of features: 35 MSE: 94.33252337734685\n",
      "number of features: 42 MSE: 94.6848695381598\n"
     ]
    }
   ],
   "source": [
    "#test a range of feature values for decision trees\n",
    "feature_range = [5, 15, 25, 35, 42]\n",
    "mses_dt = []\n",
    "for value in feature_range:\n",
    "    mse = test_feature_number_dt(value)\n",
    "    mses_dt.append(mse)\n",
    "    print('number of features:', value, 'MSE:', mse)"
   ]
  },
  {
   "cell_type": "code",
   "execution_count": 39,
   "metadata": {},
   "outputs": [
    {
     "name": "stdout",
     "output_type": "stream",
     "text": [
      "number of features: 25 MSE: 95.2337009534485\n",
      "number of features: 26 MSE: 94.39014644153782\n",
      "number of features: 27 MSE: 94.27150621337744\n",
      "number of features: 28 MSE: 93.89878759645927\n",
      "number of features: 29 MSE: 93.7830912841099\n",
      "number of features: 30 MSE: 94.20980866735158\n",
      "number of features: 31 MSE: 94.3940447585078\n",
      "number of features: 32 MSE: 94.81146070515494\n",
      "number of features: 33 MSE: 93.99274857532488\n",
      "number of features: 34 MSE: 94.32987706437432\n",
      "number of features: 35 MSE: 94.3317960081257\n"
     ]
    }
   ],
   "source": [
    "#the range in between 25 and 35  features seems like it gets lower, test this\n",
    "new_feature_range = [25, 26, 27, 28, 29, 30, 31, 32, 33, 34, 35]\n",
    "for value in new_feature_range:\n",
    "    print('number of features:', value, 'MSE:', test_feature_number_dt(value))"
   ]
  },
  {
   "cell_type": "code",
   "execution_count": 40,
   "metadata": {},
   "outputs": [
    {
     "name": "stdout",
     "output_type": "stream",
     "text": [
      "number of features: 35 MSE: 94.23101900283787\n",
      "number of features: 36 MSE: 94.77164598366348\n",
      "number of features: 37 MSE: 94.76565439868287\n",
      "number of features: 38 MSE: 94.71535725489794\n",
      "number of features: 39 MSE: 94.70516081869094\n",
      "number of features: 40 MSE: 94.68921156415348\n",
      "number of features: 41 MSE: 94.78464847897772\n",
      "number of features: 42 MSE: 94.73302658956709\n"
     ]
    }
   ],
   "source": [
    "#now test 35 to 42 because it seems promising\n",
    "new_feature_range_2 = [35, 36, 37, 38, 39, 40, 41, 42]\n",
    "for value in new_feature_range_2:\n",
    "    print('number of features:', value, 'MSE:', test_feature_number_dt(value))"
   ]
  },
  {
   "cell_type": "markdown",
   "metadata": {},
   "source": [
    "So far, decision trees are performing  better than linear regression. Also, because adding the initially dropped features to linear regression did improve model performance, I will now perform feature selection on decision trees using all of the initial features."
   ]
  },
  {
   "cell_type": "code",
   "execution_count": 41,
   "metadata": {},
   "outputs": [],
   "source": [
    "#create a function to run on the whole initial data set\n",
    "def test_feature_number_dt_whole(feature_number):\n",
    "    #initiate the selector and filter for feature selection\n",
    "    selector = SelectKBest(f_classif, k = feature_number)\n",
    "    selector.fit(X_whole, y_whole)\n",
    "    filter = selector.get_support()\n",
    "    top_x_features = X_whole.columns[filter]\n",
    "    #create new subsamples of data to train and test on\n",
    "    new_x_train_dt = X_train_whole[top_x_features]\n",
    "    new_x_test_dt = X_test_whole[top_x_features]\n",
    "    #create new model\n",
    "    model = DecisionTreeRegressor(max_depth = 10, min_samples_leaf = 20)\n",
    "    model.fit(new_x_train_dt, y_train_whole)\n",
    "    predictions = model.predict(new_x_test_dt)\n",
    "    #compute and return the mse\n",
    "    mse = np.sqrt(mean_squared_error(y_test_whole, predictions))\n",
    "    return mse"
   ]
  },
  {
   "cell_type": "code",
   "execution_count": 42,
   "metadata": {},
   "outputs": [
    {
     "name": "stdout",
     "output_type": "stream",
     "text": [
      "number of features: 35 MSE: 94.1774810878093\n",
      "number of features: 36 MSE: 94.21613795493694\n",
      "number of features: 37 MSE: 94.47433903491957\n",
      "number of features: 38 MSE: 94.55290779373023\n",
      "number of features: 39 MSE: 94.82207918747179\n",
      "number of features: 40 MSE: 94.94789890407951\n",
      "number of features: 41 MSE: 94.84011800664028\n",
      "number of features: 42 MSE: 94.78403563394437\n"
     ]
    }
   ],
   "source": [
    "#test a range of values from 42 to 49\n",
    "new_feature_range_3 = [35, 36, 37, 38, 39, 40, 41, 42]\n",
    "for value in new_feature_range_3:\n",
    "    print('number of features:', value, 'MSE:', test_feature_number_dt_whole(value))"
   ]
  },
  {
   "cell_type": "markdown",
   "metadata": {},
   "source": [
    "## Analysis of Feature Selection"
   ]
  },
  {
   "cell_type": "markdown",
   "metadata": {},
   "source": [
    "Performing feature selection on linear regression, the lowest MSE I obtained was 97.73996253019271, using 41 features. Performing feature selection on decision trees, the lowest MSE I obtaind was 93.7830912841099 using 29 features.\n",
    "\n",
    "It is interesting to note that linear regression performed better using 12 more features than decision trees. I theorize this is because the extra features with low correlation add noise to the decision tree, while for linear regression, they are helpful in fine-tuning the line.\n",
    "Because decision trees are performing much better than linear regression, I will now finally try random forest to see if it produces better results. "
   ]
  },
  {
   "cell_type": "markdown",
   "metadata": {},
   "source": [
    "## Random Forest"
   ]
  },
  {
   "cell_type": "code",
   "execution_count": 43,
   "metadata": {},
   "outputs": [
    {
     "name": "stdout",
     "output_type": "stream",
     "text": [
      "Start...\n",
      "MSE: 86.64921379028\n"
     ]
    }
   ],
   "source": [
    "#train an initial random forest classifier using the base values for min_samples_leaf and max_depth\n",
    "#use an initial number of estimators of 20\n",
    "print('Start...')\n",
    "rf_model_base = RandomForestRegressor(n_estimators = 20)\n",
    "rf_model_base.fit(X_train, y_train)\n",
    "predictions = rf_model_base.predict(X_test)\n",
    "mse = np.sqrt(mean_squared_error(y_test, predictions))\n",
    "print('MSE:', mse)\n",
    "\n"
   ]
  },
  {
   "cell_type": "code",
   "execution_count": 44,
   "metadata": {},
   "outputs": [
    {
     "name": "stdout",
     "output_type": "stream",
     "text": [
      "min: 37 max: 51\n"
     ]
    }
   ],
   "source": [
    "#obtain the depths of the tree to determine the range\n",
    "min_depth = min([tree.get_depth() for tree in rf_model_base])\n",
    "max_depth = max([tree.get_depth() for tree in rf_model_base])\n",
    "print('min:', min_depth, 'max:', max_depth)"
   ]
  },
  {
   "cell_type": "markdown",
   "metadata": {},
   "source": [
    "Analysis: The first random forest model I have tried has lowered the MSE by about 7 units. As this is very promising, I will now experiment with different parameters for min_samples_leaf and max_depth, as well as different numbers of estimators."
   ]
  },
  {
   "cell_type": "code",
   "execution_count": 45,
   "metadata": {},
   "outputs": [
    {
     "name": "stdout",
     "output_type": "stream",
     "text": [
      "Start...\n",
      "MSE: 88.64903531006647\n"
     ]
    }
   ],
   "source": [
    "#train another random forest classifier using max_depth of 10 and min_samples_leaf of 20 like previously determined\n",
    "print('Start...')\n",
    "rf_model = RandomForestRegressor(n_estimators = 20, max_depth = 10, min_samples_leaf = 20)\n",
    "rf_model.fit(X_train, y_train)\n",
    "predictions_new = rf_model.predict(X_test)\n",
    "mse_new = np.sqrt(mean_squared_error(y_test, predictions_new))\n",
    "print('MSE:', mse_new)"
   ]
  },
  {
   "cell_type": "code",
   "execution_count": 46,
   "metadata": {},
   "outputs": [
    {
     "data": {
      "text/plain": [
       "{'n_estimators': [33, 66, 100],\n",
       " 'max_depth': [16, 32, 64],\n",
       " 'min_samples_leaf': [25, 50, 100]}"
      ]
     },
     "execution_count": 46,
     "metadata": {},
     "output_type": "execute_result"
    }
   ],
   "source": [
    "#perform a grid search on various hyperparameter values, like I did previously for traditional decision trees\n",
    "#because max_depth of 10 and min_samples_leaf of 20 increased MSE, try higher values to increase model complexity\n",
    "#create parameter grid for grid_search\n",
    "estimators = [33, 66, 100]\n",
    "depths = [16, 32, 64]\n",
    "leaves = [25, 50, 100]\n",
    "param_grid = {'n_estimators': estimators, 'max_depth': depths, 'min_samples_leaf': leaves}\n",
    "param_grid"
   ]
  },
  {
   "cell_type": "code",
   "execution_count": 48,
   "metadata": {},
   "outputs": [
    {
     "name": "stdout",
     "output_type": "stream",
     "text": [
      "Running grid search...\n",
      "Done\n"
     ]
    }
   ],
   "source": [
    "#perform grid search using parameter grid\n",
    "print('Running grid search...')\n",
    "model_rf = RandomForestRegressor()\n",
    "\n",
    "#create a grid search object using 5 fold cross validation\n",
    "grid = GridSearchCV(model_rf, param_grid, cv = 5, scoring = 'neg_mean_squared_error')\n",
    "grid_search = grid.fit(X_train, y_train)\n",
    "print('Done')"
   ]
  },
  {
   "cell_type": "code",
   "execution_count": 49,
   "metadata": {},
   "outputs": [
    {
     "name": "stdout",
     "output_type": "stream",
     "text": [
      "Optimal hyperparameters: {'max_depth': 16, 'min_samples_leaf': 25, 'n_estimators': 100}\n",
      "MSE: 91.36573992199459\n"
     ]
    }
   ],
   "source": [
    "#obtain best hyperparameters\n",
    "print('Optimal hyperparameters:', grid_search.best_params_)\n",
    "\n",
    "# calculate the MSE from the best hyperparameter configuration using aboslute value and squareroot so it is on the same scale as linear regression\n",
    "print('MSE:', np.sqrt(abs(grid_search.best_score_)))"
   ]
  },
  {
   "cell_type": "code",
   "execution_count": 51,
   "metadata": {},
   "outputs": [
    {
     "name": "stdout",
     "output_type": "stream",
     "text": [
      "number of estimators: 10 MSE: 89.29344924996106\n",
      "number of estimators: 20 MSE: 88.05298955398838\n",
      "number of estimators: 30 MSE: 87.08357193466836\n",
      "number of estimators: 40 MSE: 86.68875615217894\n",
      "number of estimators: 50 MSE: 85.65072082720965\n",
      "number of estimators: 60 MSE: 85.81121393426038\n"
     ]
    }
   ],
   "source": [
    "#because this MSE is still higher than the initial configuration I tested, try a range of values for n_estimators from 10-60\n",
    "estimators = [10, 20, 30, 40, 50, 60]\n",
    "mses = []\n",
    "for value in estimators:\n",
    "    rf_model_test = RandomForestRegressor(n_estimators = value)\n",
    "    rf_model_test.fit(X_train, y_train)\n",
    "    predictions_test = rf_model_test.predict(X_test)\n",
    "    mse_test = np.sqrt(mean_squared_error(y_test, predictions_test))\n",
    "    mses.append(mse_test)\n",
    "    print('number of estimators:', value, 'MSE:', mse_test)\n",
    "    "
   ]
  },
  {
   "cell_type": "code",
   "execution_count": 52,
   "metadata": {},
   "outputs": [
    {
     "data": {
      "image/png": "[encoded data removed]",
      "text/plain": [
       "<Figure size 640x480 with 1 Axes>"
      ]
     },
     "metadata": {},
     "output_type": "display_data"
    }
   ],
   "source": [
    "#create a graph of estimators vs. mse\n",
    "fig = plt.figure()\n",
    "ax = fig.add_subplot(111)\n",
    "plot = sns.lineplot(x = estimators, y = mses, marker = 'o', label = 'Training Set')\n",
    "plt.title('MSE of the Random Forest Predictions, for n_estimators in [10, 20, 30, 40, 50, 60]')\n",
    "ax.set_xlabel('n_estimators')\n",
    "ax.set_ylabel('Mean Squared Error')\n",
    "plt.show()"
   ]
  },
  {
   "cell_type": "code",
   "execution_count": 53,
   "metadata": {},
   "outputs": [
    {
     "name": "stdout",
     "output_type": "stream",
     "text": [
      "number of estimators: 40 MSE: 85.95423929440499\n",
      "number of estimators: 45 MSE: 85.73228923256451\n",
      "number of estimators: 50 MSE: 85.87918282090884\n",
      "number of estimators: 55 MSE: 86.11169431275987\n",
      "number of estimators: 60 MSE: 85.7948172775581\n"
     ]
    }
   ],
   "source": [
    "#because it appears that a dip is occurring in the MSE from 40 - 60, test more values in that range\n",
    "estimators_2 = [40, 45, 50, 55, 60]\n",
    "mses_2 = []\n",
    "for value in estimators_2:\n",
    "    rf_model_test = RandomForestRegressor(n_estimators = value)\n",
    "    rf_model_test.fit(X_train, y_train)\n",
    "    predictions_test = rf_model_test.predict(X_test)\n",
    "    mse_test = np.sqrt(mean_squared_error(y_test, predictions_test))\n",
    "    mses_2.append(mse_test)\n",
    "    print('number of estimators:', value, 'MSE:', mse_test)"
   ]
  },
  {
   "cell_type": "code",
   "execution_count": 54,
   "metadata": {},
   "outputs": [
    {
     "data": {
      "image/png": "[encoded data removed]",
      "text/plain": [
       "<Figure size 640x480 with 1 Axes>"
      ]
     },
     "metadata": {},
     "output_type": "display_data"
    }
   ],
   "source": [
    "#create a graph to visualize\n",
    "fig = plt.figure()\n",
    "ax = fig.add_subplot(111)\n",
    "plot = sns.lineplot(x = estimators_2, y = mses_2, marker = 'o', label = 'Training Set')\n",
    "plt.title('MSE of the Random Forest Predictions, for n_estimators in [40, 45, 50, 55, 60]')\n",
    "ax.set_xlabel('n_estimators')\n",
    "ax.set_ylabel('Mean Squared Error')\n",
    "plt.show()"
   ]
  },
  {
   "cell_type": "code",
   "execution_count": 55,
   "metadata": {},
   "outputs": [
    {
     "name": "stdout",
     "output_type": "stream",
     "text": [
      "number of estimators: 45 MSE: 85.85383740861592\n",
      "min: 35 max: 47\n",
      "number of estimators: 46 MSE: 85.70181322840398\n",
      "min: 36 max: 48\n",
      "number of estimators: 47 MSE: 86.10227264556356\n",
      "min: 35 max: 46\n",
      "number of estimators: 48 MSE: 85.45390301312875\n",
      "min: 36 max: 45\n",
      "number of estimators: 49 MSE: 86.17656746960861\n",
      "min: 35 max: 46\n",
      "number of estimators: 50 MSE: 85.91228115275253\n",
      "min: 35 max: 49\n"
     ]
    }
   ],
   "source": [
    "#now test more values in the range of 45-50 to see if any more improvement can be made\n",
    "#also identify what the min and max depths of the trees are to identify a range for further testing\n",
    "estimators_3 = [45, 46, 47, 48, 49, 50]\n",
    "mses_3 = []\n",
    "for value in estimators_3:\n",
    "    rf_model_test = RandomForestRegressor(n_estimators = value)\n",
    "    rf_model_test.fit(X_train, y_train)\n",
    "    predictions_test = rf_model_test.predict(X_test)\n",
    "    mse_test = np.sqrt(mean_squared_error(y_test, predictions_test))\n",
    "    mses_3.append(mse_test)\n",
    "    print('number of estimators:', value, 'MSE:', mse_test)\n",
    "    min_depth = min([tree.get_depth() for tree in rf_model_test])\n",
    "    max_depth = max([tree.get_depth() for tree in rf_model_test])\n",
    "    print('min:', min_depth, 'max:', max_depth)"
   ]
  },
  {
   "cell_type": "code",
   "execution_count": 20,
   "metadata": {},
   "outputs": [
    {
     "data": {
      "text/plain": [
       "{'max_depth': [45, 47, 49], 'min_samples_leaf': [2, 4, 6]}"
      ]
     },
     "execution_count": 20,
     "metadata": {},
     "output_type": "execute_result"
    }
   ],
   "source": [
    "#the current lowest value is obtained with 48 estimators, with an MSE of about 85.45.\n",
    "#this value is obtained with no max_depth and a min_samples_leaf of 1, allowing maximum amount of model complexity\n",
    "\n",
    "#try a value of depths with max going from 45 to 50 to determine the best one \n",
    "depths = [45, 47, 49]\n",
    "#use values close to 1\n",
    "leaves = [2, 4, 6]\n",
    "param_grid = {'max_depth': depths, 'min_samples_leaf': leaves}\n",
    "param_grid\n"
   ]
  },
  {
   "cell_type": "code",
   "execution_count": 21,
   "metadata": {},
   "outputs": [
    {
     "name": "stdout",
     "output_type": "stream",
     "text": [
      "Running grid search...\n",
      "Done\n"
     ]
    }
   ],
   "source": [
    "#perform a grid search, holding n_estimators at 48\n",
    "print('Running grid search...')\n",
    "model_final = RandomForestRegressor(n_estimators = 48)\n",
    "\n",
    "#create a grid search object using 5 fold cross validation\n",
    "grid = GridSearchCV(model_final, param_grid, cv = 5, scoring = 'neg_mean_squared_error')\n",
    "grid_search = grid.fit(X_train, y_train)\n",
    "print('Done')"
   ]
  },
  {
   "cell_type": "code",
   "execution_count": 22,
   "metadata": {},
   "outputs": [
    {
     "name": "stdout",
     "output_type": "stream",
     "text": [
      "Optimal hyperparameters: {'max_depth': 49, 'min_samples_leaf': 4}\n",
      "MSE: 86.78040454796364\n"
     ]
    }
   ],
   "source": [
    "#obtain best hyperparameters\n",
    "print('Optimal hyperparameters:', grid_search.best_params_)\n",
    "\n",
    "# calculate the MSE from the best hyperparameter configuration using aboslute value and squareroot so it is on the same scale as linear regression\n",
    "print('MSE:', np.sqrt(abs(grid_search.best_score_)))"
   ]
  },
  {
   "cell_type": "code",
   "execution_count": 25,
   "metadata": {},
   "outputs": [
    {
     "name": "stdout",
     "output_type": "stream",
     "text": [
      "Start...\n",
      "MSE: 86.10043704450993\n"
     ]
    }
   ],
   "source": [
    "#create the final model to be downloaded into a pickle file\n",
    "print('Start...')\n",
    "rf_optimal = RandomForestRegressor(n_estimators = 48)\n",
    "rf_optimal.fit(X_train, y_train)\n",
    "predictions= rf_optimal.predict(X_test)\n",
    "mse_new = np.sqrt(mean_squared_error(y_test, predictions))\n",
    "print('MSE:', mse_new)"
   ]
  },
  {
   "cell_type": "markdown",
   "metadata": {},
   "source": [
    "## Final Analysis"
   ]
  },
  {
   "cell_type": "markdown",
   "metadata": {},
   "source": [
    "When I initially started this problem of predicting the price of an airbnb, I decided to use only numerical features and try simple models, like linear regression and decision trees. At first, I removed all non-numerical or boolean features from the data set. This included removing features like 'neighbourhood_group_cleansed' and 'room_type'. However, my initial linear regression model had an MSE of 222, which is very high. My decision tree performed much better, with an MSE of around 97. Before I started the feature selection process on the better of the two models, I decided to see if any of the object features had high predictive value. This led me to discover that 'neighbourhood_group_cleansed' and 'room_type' only had five or four values, so they could be one-hot encoded very easily. I then tested their correlations with the price label and discovered that they had correlations of as high as 0.36. I then re-trained my linear model on this new data and achieved an MSE of about 95, with the decision tree performing very similarly.\n",
    "\n",
    "I then dedicated significant analysis and time to attempting to optimize both the linear regression and decision tree models, as their performances were so similar. I performed detailed hyperparameter optimization on the decision tree, performing a grid search on various values of max_depth and min_samples_leaf. Additionally, I performed feature selection on both the linear regression and decision tree models. However, despite all of the investigation I did, I was only able to achieve an MSE of 95.437. Because the range of the price column is from 30 to 890, this MSE is not very good. \n",
    "It was also very intersting to me how linear regression and decision trees could be performing so similarly. I theororize this is because the data is somewhat linear in nature, which takes intuitive sense, as something like increasing the number of beds in an airbnb would logically increase its price. \n",
    "Because my two models were performing so similarly and I was struggling to make further improvements to the MSE, I decided to try a Random Forest Regressor model, as decision trees were promising, and I thought that perhaps the trees in the random forest model could cancel out their respective errors. Training an initial random forest model, I achieved an MSE of 87, down 8 units from my previous best. I then decided to extensively test hyperparameter values for n_estimators, min_samples_leaf, and max_depth. The results of this testing were that each combination of hyperparameters produced a higher MSE than the initial configuration did. Therefore, I determined that my hyperparameter values were capping how complex the tree could grow, which was harming performance. \n",
    "\n",
    "Because the initial configuration used 20 estimators, I then decided to test a range of estimators from 10 - 60, while keeping the default values for max_depth and min_samples_leaf. I repeatedly tested subsets of this range, and I determined that the lowest MSE was produced with 48 estimators. Finally, I decided to try one more grid search to identify the optimal hyperparameters. I calculated what the max depth of each tree from the initial configuration was to identify a good range to test. \n",
    "From this grid search, I deduced a max_depth of 49 and a min_samples_leafof 2 were the optimal values, but they still produced a higher MSE than the base values. As these values were the least-restrictive of all the ones I tested in my grid search, I am further supported in deducing that any attempt to alter these parameters decreases the complexity of the madel, making it more prone to bias.\n",
    "\n",
    "Overall, my  best model was a random forest regressor with 48 estimators, no max_depth, and a min samples leaf of 1. This had an MSE of around 85.45, but my final model with the same hyperparameters produced a MSE of 86.1, likely due to small differences in the split values of the decision trees.\n",
    "As this MSE is still quite high relative to the price range of 30 - 890 dollars for an airbnb, it is not likely that this current model could be used for a commercial application. However, from the initial model I tested to my final model, I was able to bring the MSE down by around 11 units through extensive analysis and thorough testing of different model and hyperparameter configurations.\n",
    "I theorize that my model is not performing as well as I would like because there may not be enough features with a high enough correlation with the label. Additonally, the data may be noisy, which is causing the models to be prone to overfitting. It is also possible that the three models I tried are not ideal for this problem, and that perhaps something like a neural network would be able to better learn the relationships between the features and the data.\n",
    "\n",
    "From this experiment, I learned to never immediately dismiss object features, as they may have very high predictive value. Additonally, I learned to perform empirical feature selection rather than immediately remove features with a less than x% correlation with the label. Finally, I learned that changing the model can drastically change predictive performance, as a switch to random forest initially improved my performance by 8 units.\n",
    "Through performing this experiment, I now feel much more confident in my ability to pre-process data, perform feature selection and engineering, and test different model configurations.\n",
    "To continue improving this model, my next steps would be to try more models, such as gradient-boosted decision trees and neural networks. \n"
   ]
  },
  {
   "cell_type": "code",
   "execution_count": null,
   "metadata": {},
   "outputs": [],
   "source": []
  }
 ],
 "metadata": {
  "kernelspec": {
   "display_name": "Python 3 (ipykernel)",
   "language": "python",
   "name": "python3"
  },
  "language_info": {
   "codemirror_mode": {
    "name": "ipython",
    "version": 3
   },
   "file_extension": ".py",
   "mimetype": "text/x-python",
   "name": "python",
   "nbconvert_exporter": "python",
   "pygments_lexer": "ipython3",
   "version": "3.9.19"
  },
  "toc": {
   "base_numbering": 1,
   "nav_menu": {},
   "number_sections": false,
   "sideBar": true,
   "skip_h1_title": false,
   "title_cell": "Table of Contents",
   "title_sidebar": "Contents",
   "toc_cell": false,
   "toc_position": {},
   "toc_section_display": true,
   "toc_window_display": false
  },
  "varInspector": {
   "cols": {
    "lenName": 16,
    "lenType": 16,
    "lenVar": 40
   },
   "kernels_config": {
    "python": {
     "delete_cmd_postfix": "",
     "delete_cmd_prefix": "del ",
     "library": "var_list.py",
     "varRefreshCmd": "print(var_dic_list())"
    },
    "r": {
     "delete_cmd_postfix": ") ",
     "delete_cmd_prefix": "rm(",
     "library": "var_list.r",
     "varRefreshCmd": "cat(var_dic_list()) "
    }
   },
   "types_to_exclude": [
    "module",
    "function",
    "builtin_function_or_method",
    "instance",
    "_Feature"
   ],
   "window_display": false
  }
 },
 "nbformat": 4,
 "nbformat_minor": 4
}
